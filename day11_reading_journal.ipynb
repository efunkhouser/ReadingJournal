{
 "cells": [
  {
   "cell_type": "markdown",
   "metadata": {},
   "source": [
    "# Day 11 Reading Journal\n",
    "\n",
    "This journal includes several required exercises, but it is meant to encourage active reading more generally.  You should use the journal to take detailed notes, catalog questions, and explore the content from Think Python deeply.\n",
    "\n",
    "Reading: Review Think Python Chapters 15-17\n",
    "\n",
    "**Due: Monday, February 29 at 12 noon**\n",
    "\n"
   ]
  },
  {
   "cell_type": "markdown",
   "metadata": {},
   "source": [
    "## [Chapter 15](http://www.greenteapress.com/thinkpython/html/thinkpython016.html), [Chapter 16](http://www.greenteapress.com/thinkpython/html/thinkpython017.html), [Chapter 17](http://www.greenteapress.com/thinkpython/html/thinkpython018.html)\n",
    "\n",
    "\n",
    "By the end of chapter 17, we have all the tools we need to create our own user-defined types known as classes. In this reading journal, we're asking you to review and solidify your understanding of this material so we can build on it for the rest of the course. \n",
    "\n",
    "If you didn't get a chance to fully complete the Day 10 reading journal, you may want to do so now."
   ]
  },
  {
   "cell_type": "markdown",
   "metadata": {
    "problem": "Terminology"
   },
   "source": [
    "### Terminology\n",
    "\n",
    "You should be familiar with the following list of terms and concepts. If any of them are unclear to you, re-read, ask, write a definition in your own words, and try an example if appropriate.\n",
    "\n",
    " - class\n",
    " - object\n",
    " - instance\n",
    " - attribute\n",
    " - method\n",
    " - shallow vs deep copying\n",
    " - pure functions vs modifiers\n",
    " - initializing object instances\n",
    " "
   ]
  },
  {
   "cell_type": "markdown",
   "metadata": {
    "is_question": true,
    "problem": "Exercise 1"
   },
   "source": [
    "### Exercise\n",
    "\n",
    "We're going to take the first steps toward writing a calendar application. To keep things simple, we'll restrict ourselves to a single day for now. Write an `Event` class with the following attributes:\n",
    "\n",
    " - `name`  : Title for the `Event`\n",
    " - `start` : `Time` object representing the start time for the `Event`\n",
    " - `end`   : `Time` object representing the end time for the `Event`\n",
    "\n",
    "You can also augment your `Event` class with additional attributes, such as location and attendees.\n",
    "\n",
    "Write `__init__` and `__str__` methods for your `Event` class."
   ]
  },
  {
   "cell_type": "code",
   "execution_count": 10,
   "metadata": {
    "collapsed": false,
    "solution": "Exercise 1"
   },
   "outputs": [
    {
     "name": "stdout",
     "output_type": "stream",
     "text": [
      "Morning run happens between 7:30 and 10:00.\n"
     ]
    }
   ],
   "source": [
    "class Event(object):\n",
    "    def __init__(self, name, start, end):\n",
    "        self.name = name\n",
    "        self.start = start\n",
    "        self.end = end\n",
    "    def __str__(self):\n",
    "        return \"{} happens between {} and {}.\".format(self.name, self.start, self.end)\n",
    "        \n",
    "class Time(object):\n",
    "    def __init__(self, hours, minutes):\n",
    "        self.hours = hours + minutes // 60\n",
    "        self.minutes = minutes % 60\n",
    "    def __str__(self):\n",
    "        return \"{:0}:{:02}\".format(self.hours, self.minutes)\n",
    "        \n",
    "t1 = Time(7,30)\n",
    "t2 = Time(10,0)\n",
    "\n",
    "print Event(\"Morning run\",t1,t2)\n"
   ]
  },
  {
   "cell_type": "markdown",
   "metadata": {
    "is_question": true,
    "problem": "Exercise 2"
   },
   "source": [
    "### Exercise\n",
    "\n",
    "Write a `duration` method that returns the duration of the `Event` in minutes."
   ]
  },
  {
   "cell_type": "code",
   "execution_count": 14,
   "metadata": {
    "collapsed": false,
    "solution": "Exercise 2"
   },
   "outputs": [
    {
     "name": "stdout",
     "output_type": "stream",
     "text": [
      "150\n"
     ]
    }
   ],
   "source": [
    "class Event(object):\n",
    "    ''' Assumes some intelligence of inputting attributes:\n",
    "        start should be before end chronologically\n",
    "        name should be a string\n",
    "        times only have hours and minutes'''\n",
    "    def __init__(self, name, start, end):\n",
    "        self.name = name\n",
    "        self.start = start\n",
    "        self.end = end\n",
    "    def __str__(self):\n",
    "        return \"{} happens between {} and {}.\".format(self.name, self.start, self.end)\n",
    "    def duration(self):\n",
    "        hrs = self.end.hours - self.start.hours\n",
    "        minu = hrs * 60 + (self.end.minutes - self.start.minutes)\n",
    "        return minu\n",
    "        \n",
    "class Time(object):\n",
    "    def __init__(self, hours, minutes):\n",
    "        self.hours = hours + minutes // 60\n",
    "        self.minutes = minutes % 60\n",
    "    def __str__(self):\n",
    "        return \"{:0}:{:02}\".format(self.hours, self.minutes)\n",
    "        \n",
    "t1 = Time(7,30)\n",
    "t2 = Time(10,0)\n",
    "\n",
    "event1 = Event(\"Morning run\",t1,t2)\n",
    "print event1.duration()"
   ]
  },
  {
   "cell_type": "markdown",
   "metadata": {
    "is_question": true,
    "problem": "Exercise 3"
   },
   "source": [
    "### Exercise\n",
    "\n",
    "Write an `Agenda` class that contains several `Event`s for the day.\n",
    "\n",
    "**Quick check: ** How should you store `Event`s within your `Agenda` class?\n",
    "\n",
    "Your `Agenda` class should include a `print_agenda` method that prints out your schedule for the day, in order.\n",
    "\n",
    "**Optional:** Include a `is_feasible` method that returns `True` if your schedule has no time conflicts. You may want to write additional helper methods for the `Event` class to make this easier."
   ]
  },
  {
   "cell_type": "code",
   "execution_count": 19,
   "metadata": {
    "collapsed": false,
    "solution": "Exercise 3"
   },
   "outputs": [
    {
     "name": "stdout",
     "output_type": "stream",
     "text": [
      "Morning run from 7:30 to 10:00\n",
      "Coffee with Austin from 10:15 to 11:15\n"
     ]
    }
   ],
   "source": [
    "''' I wasn't successful in implementing is_feasible with a quick first attempt;\n",
    "    I'm going to submit this RJ and start MP4, but I think if I were to push to implement is_feasible,\n",
    "    I would sort the events ascending by time during the day,\n",
    "    I would operator overload < and check that the ending time of an event was\n",
    "    smaller than all the start times after it,\n",
    "    moving down the list of end times.'''\n",
    "class Agenda(object):\n",
    "    ''' Input should take form of tuple whose elements are event objects'''\n",
    "    def __init__(self, eventTuple=()):\n",
    "        self.eventTuple = eventTuple\n",
    "    def __str__(self):\n",
    "        printList = []\n",
    "        for each in self.eventTuple:\n",
    "            printList.append(\"{} from {} to {}\".format(each.name, each.start, each.end))\n",
    "        return \"\\n\".join(printList)\n",
    "\n",
    "class Event(object):\n",
    "    ''' Assumes some intelligence of inputting attributes:\n",
    "        start should be before end chronologically\n",
    "        name should be a string\n",
    "        times only have hours and minutes'''\n",
    "    def __init__(self, name, start, end):\n",
    "        self.name = name\n",
    "        self.start = start\n",
    "        self.end = end\n",
    "    def __str__(self):\n",
    "        return \"{} happens between {} and {}.\".format(self.name, self.start, self.end)\n",
    "    def duration(self):\n",
    "        hrs = self.end.hours - self.start.hours\n",
    "        minu = hrs * 60 + (self.end.minutes - self.start.minutes)\n",
    "        return minu\n",
    "        \n",
    "class Time(object):\n",
    "    def __init__(self, hours, minutes):\n",
    "        self.hours = hours + minutes // 60\n",
    "        self.minutes = minutes % 60\n",
    "    def __str__(self):\n",
    "        return \"{:0}:{:02}\".format(self.hours, self.minutes)\n",
    "        \n",
    "t1 = Time(7,30)\n",
    "t2 = Time(10,0)\n",
    "\n",
    "event1 = Event(\"Morning run\",t1,t2)\n",
    "event2 = Event(\"Coffee with Austin\", Time(10,15), Time(11,15))\n",
    "\n",
    "myAgenda = Agenda((event1,event2))\n",
    "print myAgenda\n"
   ]
  },
  {
   "cell_type": "markdown",
   "metadata": {
    "is_question": true,
    "problem": "Exercise 4"
   },
   "source": [
    "### Going Beyond (optional)\n",
    "\n",
    "Some ideas for taking your application further:\n",
    " - Add people and/or places to the mix to create a scheduling assistant\n",
    " - Extend support for day-of-week or full date. A word of warning: dealing with dates and times in real applications is difficult due to the huge number of special cases (Perfect example: this reading journal is due on Leap Day). Consider using something like the Python [datetime](https://docs.python.org/2/library/datetime.html) module.\n",
    " - Use pickle or some other persistence strategy to save and load your `Agenda`."
   ]
  },
  {
   "cell_type": "code",
   "execution_count": null,
   "metadata": {
    "collapsed": true,
    "solution": "Exercise 4"
   },
   "outputs": [],
   "source": []
  },
  {
   "cell_type": "markdown",
   "metadata": {
    "is_poll": true,
    "is_question": true,
    "problem": "Time spent"
   },
   "source": [
    "## Quick poll\n",
    "About how long did you spend working on this Reading Journal?"
   ]
  },
  {
   "cell_type": "markdown",
   "metadata": {
    "poll_response": true,
    "solution": "Time spent"
   },
   "source": [
    "1.5hrs "
   ]
  },
  {
   "cell_type": "markdown",
   "metadata": {
    "is_question": true,
    "problem": "Feedback"
   },
   "source": [
    "## Reading Journal feedback\n",
    "\n",
    "Have any comments on this Reading Journal? Feel free to leave them below and we'll read them when you submit your journal entry. This could include suggestions to improve the exercises, topics you'd like to see covered in class next time, or other feedback.\n",
    "\n",
    "If you have Python questions or run into problems while completing the reading, you should post them to Piazza instead so you can get a quick response before your journal is submitted."
   ]
  },
  {
   "cell_type": "markdown",
   "metadata": {
    "feedback_response": true,
    "solution": "Feedback"
   },
   "source": [
    "I'd like to revisit this RJ - I've allotted as much time as I feel is reasonable given I'm prioritizing advancing MP4. But I think the stuff in here is really interesting and I feel tentatively pretty good about it - excited to see how some experience will help. "
   ]
  }
 ],
 "metadata": {
  "celltoolbar": "Edit Metadata",
  "kernelspec": {
   "display_name": "Python 2",
   "language": "python",
   "name": "python2"
  },
  "language_info": {
   "codemirror_mode": {
    "name": "ipython",
    "version": 2
   },
   "file_extension": ".py",
   "mimetype": "text/x-python",
   "name": "python",
   "nbconvert_exporter": "python",
   "pygments_lexer": "ipython2",
   "version": "2.7.6"
  }
 },
 "nbformat": 4,
 "nbformat_minor": 0
}
