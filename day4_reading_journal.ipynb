{
 "cells": [
  {
   "cell_type": "markdown",
   "metadata": {},
   "source": [
    "# Day 4 Reading Journal\n",
    "\n",
    "This journal includes several required exercises, but it is meant to encourage active reading more generally.  You should use the journal to take detailed notes, catalog questions, and explore the content from Think Python deeply.\n",
    "\n",
    "Reading: Think Python Chapter 10\n",
    "\n",
    "**Due: Thursday, February 4 at 12 noon**\n",
    "\n"
   ]
  },
  {
   "cell_type": "markdown",
   "metadata": {},
   "source": [
    "## [Chapter 10](http://www.greenteapress.com/thinkpython/html/thinkpython011.html)\n",
    "\n",
    "You may want to review [state diagrams in Chapter 2](http://www.greenteapress.com/thinkpython/html/thinkpython003.html#toc13). [Python Tutor](http://pythontutor.com/) is also helpful for visualizing the state of your program.\n",
    "\n"
   ]
  },
  {
   "cell_type": "markdown",
   "metadata": {},
   "source": [
    "+= is an AUGMENTED ASSIGNMENT STATEMENT and is equivalent to\n",
    "self = self + x\n",
    "self += x\n",
    "the variable called self if it's just tracking a sum is sometimes called an ACCUMULATOR.\n",
    "\n",
    "can also put elements in a list and do sum(list)\n",
    "Combining a bunch o elements into one thing can be called REDUCE\n",
    "\n",
    "If I assign two different variables to a string, python creates one OBJECT  for that string and lets multiple vars reference that object.\n",
    "However, making EQUIVALENT lists (lists with the same VALUE) makes a new object for each list.\n",
    "a = [1,2,3]\n",
    "b = [1,2,3]\n",
    ">>>a is b\n",
    "   False\n",
    "\n",
    "They are EQUIVALENT because they have the same elements but not IDENTICAL because they refer to different objects.\n",
    "\n",
    "Going between lists and strings:\n",
    "list goes from string-->list by character\n",
    "    s = \"spam\"\n",
    "    print list(s)\n",
    "    >>['s','p','a','m']\n",
    "split goes from string-->list by word (if default delimiter, a space ' ') or whatever\n",
    "    s = spam-spam-spam\n",
    "    print s.split('-')\n",
    "    >> ['spam','spam','spam']\n",
    "join goes from list--> string and requires a delimiter but it can be an empty string\n",
    "    myList = ['yo','mama']\n",
    "    print ''.join(myList)\n",
    "    >> 'yomama'\n",
    "    print ' '.join(myList)\n",
    "    >> 'yo mama'\n",
    "    \n",
    "    s = \"spam\"\n",
    "    print list(s)\n",
    "    >>['s','p','a','m']\n",
    "    \n",
    "If you assign a variable to an object, then assign another variable to the first variable, the second one is an ALIAS. If a=[1,2,3] and b=a, b and a both REFERENCE the list object. If you change b, you also modify the original object.\n",
    "This is annoying! Avoid aliasing when working with mutable objects.\n",
    "\n",
    "Remember, list methods modify the argument and return None.\n",
    "so t = t.strip() will fuck with your references to t going forward.\n",
    "ex: + makes a new list, .append() modifies the original"
   ]
  },
  {
   "cell_type": "markdown",
   "metadata": {},
   "source": [
    "### Exercise 4  \n",
    "Write a function called `middle` that takes a list and returns a new list that contains all but the first and last elements. So `middle([1,2,3,4])` should return `[2,3]`."
   ]
  },
  {
   "cell_type": "code",
   "execution_count": 1,
   "metadata": {
    "collapsed": false
   },
   "outputs": [
    {
     "name": "stdout",
     "output_type": "stream",
     "text": [
      "[2, 3]\n",
      "[1, 2, 3, 4]\n"
     ]
    }
   ],
   "source": [
    "def middle(a_list):\n",
    "    res = []\n",
    "    for num in a_list:\n",
    "        res.append(num)\n",
    "    del res[0]\n",
    "    del res[-1]\n",
    "    return res\n",
    "\n",
    "a_list = [1,2,3,4]\n",
    "print middle(a_list)\n",
    "print a_list #yay\n"
   ]
  },
  {
   "cell_type": "markdown",
   "metadata": {},
   "source": [
    "### Exercise 5  \n",
    "Write a function called `chop` that takes a list, modifies it by removing the first and last elements, and returns `None`.\n",
    "\n",
    "What is the difference between `middle` and `chop`? Sketch out the program state or take a look at each in Python Tutor."
   ]
  },
  {
   "cell_type": "code",
   "execution_count": 2,
   "metadata": {
    "collapsed": false
   },
   "outputs": [
    {
     "name": "stdout",
     "output_type": "stream",
     "text": [
      "original list is [1, 2, 3, 4]\n",
      "None\n",
      "modified list is [2, 3]\n"
     ]
    }
   ],
   "source": [
    "a_list = [1,2,3,4]\n",
    "print \"original list is\", a_list\n",
    "def chop(a_list):\n",
    "    del a_list[0]\n",
    "    del a_list[-1]\n",
    "    #Returns None (no return statement)\n",
    "print chop(a_list) #theoretically runs the func, modifying a_list, but prints None\n",
    "print \"modified list is\", a_list\n",
    "print \"The difference is that while chop itself doesn't return anything, it modifies a list in the workspace once we call it.\""
   ]
  },
  {
   "cell_type": "markdown",
   "metadata": {},
   "source": [
    "### Exercise 7  \n",
    "Two words are anagrams if you can rearrange the letters from one to spell the other. Write a function called `is_anagram` that takes two strings and returns `True` if they are anagrams."
   ]
  },
  {
   "cell_type": "code",
   "execution_count": 4,
   "metadata": {
    "collapsed": false
   },
   "outputs": [
    {
     "name": "stdout",
     "output_type": "stream",
     "text": [
      "False\n",
      "True\n",
      "True\n",
      "True\n"
     ]
    }
   ],
   "source": [
    "def is_anagram(string1,string2):\n",
    "    string1 = string1.replace(' ','').lower() #take out spaces and make it lowercase\n",
    "    string2 = string2.replace(' ','').lower()\n",
    "    if len(string1) != len(string2):\n",
    "        return False\n",
    "    for eachLetter in string1:\n",
    "        howMany_1 = count(string1,eachLetter)\n",
    "        howMany_2 = count(string2,eachLetter)\n",
    "        if howMany_1 != howMany_2:\n",
    "            return False\n",
    "    return True\n",
    "    \n",
    "def count(word,letter):\n",
    "    count = 0\n",
    "    for char in word:\n",
    "        if char == letter:\n",
    "            count = count + 1\n",
    "    return count\n",
    "\n",
    "print is_anagram('banana', 'bagel') #just not true\n",
    "print is_anagram('Tom Marvolo Riddle', 'I am Lord Voldemort') #so true\n",
    "print is_anagram('Tom Marvolo Riddle', 'Lord Earldom Vomit')\n",
    "print is_anagram('Tom Marvolo Riddle', 'Marmot dildo lover') #thanksbuzzfeed\n"
   ]
  },
  {
   "cell_type": "markdown",
   "metadata": {},
   "source": [
    "### Exercise 8  \n",
    "The (so-called) Birthday Paradox:\n",
    "1. Write a function called `has_duplicates` that takes a list and returns `True` if there is any element that appears more than once. It should not modify the original list.\n",
    "2. If there are 23 students in your class, what are the chances that two of you have the same birthday? You can estimate this probability by generating random samples of 23 birthdays and checking for matches. Hint: you can generate random birthdays with the randint function in the [random module](https://docs.python.org/2/library/random.html).\n",
    "\n",
    "You can read about this problem at http://en.wikipedia.org/wiki/Birthday_paradox, and you can download Allen's solution from http://thinkpython.com/code/birthday.py."
   ]
  },
  {
   "cell_type": "code",
   "execution_count": 13,
   "metadata": {
    "collapsed": false
   },
   "outputs": [
    {
     "name": "stdout",
     "output_type": "stream",
     "text": [
      "0.493013972056\n"
     ]
    }
   ],
   "source": [
    "import random\n",
    "def has_duplicates(myList):\n",
    "    listCopy = list(myList)\n",
    "    for eachElement in myList:\n",
    "        listCopy.remove(eachElement)\n",
    "        if eachElement in listCopy:\n",
    "            return True\n",
    "    return False\n",
    "\n",
    "def est_probability():\n",
    "    prob = 0.0\n",
    "    trials = 0\n",
    "    success = 0\n",
    "\n",
    "    while trials <= 500:\n",
    "        trials += 1\n",
    "        birthdayList = []\n",
    "        for i in range(23): #just generatin\n",
    "            birthdayList = birthdayList + [random.randint(1,366)]\n",
    "        if has_duplicates(birthdayList):\n",
    "            success += 1\n",
    "        prob = float(success)/trials\n",
    "        \n",
    "    return prob\n",
    "    \n",
    "print est_probability()"
   ]
  },
  {
   "cell_type": "markdown",
   "metadata": {},
   "source": [
    "### Challenge: Exercise 11 (optional)\n",
    "\n",
    "You should read [Chapter 9.1](http://www.greenteapress.com/thinkpython/html/thinkpython010.html) and do Exercise 1 first.\n",
    "\n",
    "To check whether a word is in the word list, you could use the `in` operator, but it would be relatively slow because it searches through the words in order (try it).\n",
    "\n",
    "Because the words are in alphabetical order, we can speed things up with a bisection search (also known as binary search), which is similar to what you do when you look a word up in the dictionary. You start in the middle and check to see whether the word you are looking for comes before the word in the middle of the list. If so, then you search the first half of the list the same way. Otherwise you search the second half.\n",
    "\n",
    "Either way, you cut the remaining search space in half. If the word list has 113,809 words, it will take about 17 steps to find the word or conclude that it’s not there.\n",
    "\n",
    "Write a function called `bisect` that takes a sorted list and a target value and returns the index of the value in the list, if it’s there, or `None` if it’s not.\n",
    "\n",
    "Or you could read the documentation of the `bisect` module and use that! Solution: http://thinkpython.com/code/inlist.py."
   ]
  },
  {
   "cell_type": "code",
   "execution_count": null,
   "metadata": {
    "collapsed": true
   },
   "outputs": [],
   "source": [
    "def bisect(myList,targetWord):\n",
    "    ### assumes input list is sorted alphabetically!!\n",
    "    ### doesn't look at more than the first letter but could be modified to do so\n",
    "    alphabet = 'abcdefghijklmnopqrstuvwxyz' #for reference: order of alphabet\n",
    "    midList = len(myList)/2\n",
    "    rangeMin = 0\n",
    "    rangeMax = len(myList)\n",
    "    while True:\n",
    "        midlistWord = alphabet.find(myList[midList])\n",
    "        if alphabet.find(targetWord[0]) < midlistWord[0]:\n",
    "            rangeMax = midList\n",
    "            midList = midList // 2\n",
    "        else:\n",
    "            rangeMin = midList\n",
    "            midList = midList + (midList // 2)\n",
    "        if (rangeMax-rangeMin)<26:\n",
    "            return myList[rangeMin:rangeMax].index(targetWord)\n",
    "\n",
    "print bisect(['apple' 'banana' 'cucumber' 'dog' 'epenephrin' 'fake' 'gimbal' 'hank' 'injustice' 'jam' 'kan' 'lop' 'mop' 'nope'], 'dog')        "
   ]
  },
  {
   "cell_type": "markdown",
   "metadata": {},
   "source": [
    "## Reading Journal feedback\n",
    "\n",
    "Have any comments on this Reading Journal? Feel free to leave them below and we'll read them when you submit your journal entry. This could include suggestions to improve the exercises, topics you'd like to see covered in class next time, or other feedback.\n",
    "\n",
    "If you have Python questions or run into problems while completing the reading, you should post them to Piazza instead so you can get a quick response before your journal is submitted."
   ]
  },
  {
   "cell_type": "markdown",
   "metadata": {},
   "source": [
    "This one was challenging! Had to google/re-read Think Python once in a while to remember the string and list methods. "
   ]
  }
 ],
 "metadata": {
  "kernelspec": {
   "display_name": "Python 2",
   "language": "python",
   "name": "python2"
  },
  "language_info": {
   "codemirror_mode": {
    "name": "ipython",
    "version": 2
   },
   "file_extension": ".py",
   "mimetype": "text/x-python",
   "name": "python",
   "nbconvert_exporter": "python",
   "pygments_lexer": "ipython2",
   "version": "2.7.6"
  }
 },
 "nbformat": 4,
 "nbformat_minor": 0
}
