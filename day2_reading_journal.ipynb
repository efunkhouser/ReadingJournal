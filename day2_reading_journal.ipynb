{
 "cells": [
  {
   "cell_type": "markdown",
   "metadata": {},
   "source": [
    "# Day 2 Reading Journal\n",
    "\n",
    "This journal includes several required exercises, but it is meant to encourage active reading more generally.  You should use the journal to take detailed notes, catalog questions, and explore the content from Think Python deeply.\n",
    "\n",
    "Reading: Think Python Chapter 6.1-6.4, 7\n",
    "\n",
    "**Due: Thursday, January 28 at 12 noon**\n",
    "\n"
   ]
  },
  {
   "cell_type": "markdown",
   "metadata": {},
   "source": [
    "## [Chapter 6.1-6.4](http://www.greenteapress.com/thinkpython/html/thinkpython007.html)\n",
    "\n",
    "Note: the exercise numbers below match up with the reading for ease of cross referencing."
   ]
  },
  {
   "cell_type": "markdown",
   "metadata": {},
   "source": [
    "**Quick check:** What is a _fruitful function_?\n",
    "One that returns something (as opposed to a void function, which may perform an action but returns nothing)"
   ]
  },
  {
   "cell_type": "markdown",
   "metadata": {},
   "source": [
    "Anything in a function after a return statement is not run!!! These lines are called DEAD CODE bc the flow of execution will never reach them. If it gets to the end of a function without a return, the value is None. "
   ]
  },
  {
   "cell_type": "markdown",
   "metadata": {},
   "source": [
    "### Exercise 1  \n",
    "Write a `compare` function that returns `1` if `x > y`, `0` if `x == y`, and `-1` if `x < y`."
   ]
  },
  {
   "cell_type": "code",
   "execution_count": 1,
   "metadata": {
    "collapsed": false
   },
   "outputs": [
    {
     "name": "stdout",
     "output_type": "stream",
     "text": [
      "-1\n"
     ]
    }
   ],
   "source": [
    "def compare_func(x,y):\n",
    "    if x>y:\n",
    "        return 1\n",
    "    elif x == y:\n",
    "        return 0\n",
    "    else:\n",
    "        return -1\n",
    "\n",
    "print compare_func(1,4)"
   ]
  },
  {
   "cell_type": "markdown",
   "metadata": {},
   "source": [
    "**Quick check:** Modify the `absolute_value` function so that it returns the correct result for all integer inputs."
   ]
  },
  {
   "cell_type": "code",
   "execution_count": 2,
   "metadata": {
    "collapsed": false
   },
   "outputs": [
    {
     "name": "stdout",
     "output_type": "stream",
     "text": [
      "0\n"
     ]
    }
   ],
   "source": [
    "def absolute_value(x):\n",
    "    if x < 0:\n",
    "        return -x\n",
    "    if x >= 0:\n",
    "        return x\n",
    "    \n",
    "print absolute_value(0)"
   ]
  },
  {
   "cell_type": "markdown",
   "metadata": {},
   "source": [
    "6.2 INCREMENTAL DEVELOPMENT\n",
    "Avoid hard debugging by adding and testing only a bit of code at a time\n",
    "First make a function shell and make sure it runs/returns\n",
    "Then test that it's getting the arguments correctly\n",
    "\n",
    "SCAFFOLDING is extra code that helps you get shit built but doesn't need to stick around for the final product (like print statements)"
   ]
  },
  {
   "cell_type": "markdown",
   "metadata": {},
   "source": [
    "### Exercise 2  \n",
    "Use incremental development to write a function called `hypotenuse` that returns the length of the hypotenuse of a right triangle given the lengths of the two legs as arguments. Record each stage of the development process as you go, using as many cells as you need."
   ]
  },
  {
   "cell_type": "code",
   "execution_count": 4,
   "metadata": {
    "collapsed": false
   },
   "outputs": [
    {
     "name": "stdout",
     "output_type": "stream",
     "text": [
      "yo mama\n"
     ]
    }
   ],
   "source": [
    "def hypotenuse(a,b):\n",
    "    return 'yo mama'\n",
    "print hypotenuse(3,4)"
   ]
  },
  {
   "cell_type": "code",
   "execution_count": 6,
   "metadata": {
    "collapsed": false
   },
   "outputs": [
    {
     "name": "stdout",
     "output_type": "stream",
     "text": [
      "3\n",
      "4\n",
      "yo mama\n"
     ]
    }
   ],
   "source": [
    "def hypotenuse(a,b):\n",
    "    print a\n",
    "    print b\n",
    "    return 'yo mama'\n",
    "print hypotenuse(3,4)"
   ]
  },
  {
   "cell_type": "code",
   "execution_count": 7,
   "metadata": {
    "collapsed": false
   },
   "outputs": [
    {
     "name": "stdout",
     "output_type": "stream",
     "text": [
      "25\n",
      "yo mama\n"
     ]
    }
   ],
   "source": [
    "def hypotenuse(a,b):\n",
    "    c_squared = a**2 + b**2\n",
    "    print c_squared\n",
    "    return 'yo mama'\n",
    "\n",
    "print hypotenuse(3,4)"
   ]
  },
  {
   "cell_type": "code",
   "execution_count": 8,
   "metadata": {
    "collapsed": false
   },
   "outputs": [
    {
     "name": "stdout",
     "output_type": "stream",
     "text": [
      "5.0\n",
      "yo mama\n"
     ]
    }
   ],
   "source": [
    "import math\n",
    "\n",
    "def hypotenuse(a,b):\n",
    "    c_squared = a**2 + b**2\n",
    "    c = math.sqrt(c_squared)\n",
    "    print c\n",
    "    return 'yo mama'\n",
    "\n",
    "print hypotenuse(3,4)"
   ]
  },
  {
   "cell_type": "code",
   "execution_count": 9,
   "metadata": {
    "collapsed": false
   },
   "outputs": [
    {
     "name": "stdout",
     "output_type": "stream",
     "text": [
      "5.0\n",
      "5.83095189485\n"
     ]
    }
   ],
   "source": [
    "import math #so we can use square root to get hypotenuse\n",
    "\n",
    "def hypotenuse(a,b):\n",
    "    a = float(a) #just in case; don't want to do int math\n",
    "    b = float(b)\n",
    "    c_squared = a**2 + b**2\n",
    "    c = math.sqrt(c_squared) #pythagorean theorem\n",
    "    return c\n",
    "\n",
    "print hypotenuse(3,4) #test case: hyp = 5\n",
    "print hypotenuse(3,5) #test case: make sure answer is float"
   ]
  },
  {
   "cell_type": "markdown",
   "metadata": {},
   "source": [
    "Functions that return bools can have names like yes/no questions, ie \"is_divisible\""
   ]
  },
  {
   "cell_type": "markdown",
   "metadata": {},
   "source": [
    "### Exercise 3  \n",
    "Write a function `is_between(x, y, z)` that returns `True` if `x ≤ y ≤ z` or `False` otherwise."
   ]
  },
  {
   "cell_type": "code",
   "execution_count": 10,
   "metadata": {
    "collapsed": false
   },
   "outputs": [
    {
     "name": "stdout",
     "output_type": "stream",
     "text": [
      "True\n",
      "False\n"
     ]
    }
   ],
   "source": [
    "def is_between(x,y,z):\n",
    "    return (x <= y and y <= z)\n",
    "\n",
    "print is_between(1,2,3) #should return True\n",
    "print is_between(1,3,2) #should return False"
   ]
  },
  {
   "cell_type": "markdown",
   "metadata": {},
   "source": [
    "## [Chapter 7](http://www.greenteapress.com/thinkpython/html/thinkpython008.html)\n",
    "\n"
   ]
  },
  {
   "cell_type": "markdown",
   "metadata": {},
   "source": [
    "**Quick check:** How do you test for equality in Python?\n",
    "Using == comparator"
   ]
  },
  {
   "cell_type": "markdown",
   "metadata": {},
   "source": [
    "MULTIPLE ASSIGNMENT is giving different values to the same variable. In state diagram, cross out the old one, dotted line from var to val; and solid arrow from var to current val.\n",
    "\n",
    "Can make code difficult to read/debug in excess.\n",
    "\n",
    "INITIALIZE a variable before updating it.\n",
    "\n",
    "WHILE LOOP: keep evaluating the contents as long as condition returns True. Once it's false, exit loop and move to the next statement.\n",
    "Should always change the value of one or more variables so that you can eventually exit the loop and it isn't...an INFINITE LOOP!\n",
    "\n",
    "You can use a BREAK STATEMENT ('if bluh bluh: break') to exit the while loop\n",
    "Combo that with 'while True' to have a loop that will always go until you tell it to stop (\"stop when this happens\") rather than \"keep going until that happens\"\n",
    "\n",
    "If comparing two floats, test if the abs of their difference is smaller than a certain tiny tolerance instead of doing exact equality =="
   ]
  },
  {
   "cell_type": "markdown",
   "metadata": {},
   "source": [
    "**Challenge:** Prove/disprove the Collatz conjecture :) Grr"
   ]
  },
  {
   "cell_type": "markdown",
   "metadata": {},
   "source": [
    "### Exercise 2  \n",
    "Encapsulate the loop from Section 7.5 in a function called `square_root` that takes `a` as a parameter, chooses a reasonable value of `x`, and returns an estimate of the square root of `a`."
   ]
  },
  {
   "cell_type": "code",
   "execution_count": 15,
   "metadata": {
    "collapsed": false
   },
   "outputs": [
    {
     "name": "stdout",
     "output_type": "stream",
     "text": [
      "11.0\n",
      "7.31818181818\n",
      "6.39201016375\n",
      "6.32491124561\n",
      "6.32455533035\n",
      "6.32455532034\n",
      "6.32455532034\n"
     ]
    },
    {
     "data": {
      "text/plain": [
       "6.324555320336758"
      ]
     },
     "execution_count": 15,
     "metadata": {},
     "output_type": "execute_result"
    }
   ],
   "source": [
    "def square_root(a):\n",
    "    a = float(a)\n",
    "    x = a/2\n",
    "    while True:\n",
    "        y = (x + a/x) / 2\n",
    "        print y\n",
    "        if abs(y - x) < .00000001: #check the difference\n",
    "            break\n",
    "        x=y #assign x to y for the next loop to get closer\n",
    "    return x\n",
    "\n",
    "square_root(40)     "
   ]
  },
  {
   "cell_type": "markdown",
   "metadata": {},
   "source": [
    "an ALGORITHM is a mechanical process for solving a category of problems. Long division is an example. Algorithms don't memorize, they operate according to patterns and rules."
   ]
  },
  {
   "cell_type": "markdown",
   "metadata": {},
   "source": [
    "### Exercise 3  \n",
    "To test the square root algorithm you developed in Exercise 2, you could compare it with Python's `math.sqrt` function. Write a function named `test_square_root` that prints a table like this:\n",
    "\n",
    "```python\n",
    "1.0 1.0           1.0           0.0\n",
    "2.0 1.41421356237 1.41421356237 2.22044604925e-16\n",
    "3.0 1.73205080757 1.73205080757 0.0\n",
    "4.0 2.0           2.0           0.0\n",
    "5.0 2.2360679775  2.2360679775  0.0\n",
    "6.0 2.44948974278 2.44948974278 0.0\n",
    "7.0 2.64575131106 2.64575131106 0.0\n",
    "8.0 2.82842712475 2.82842712475 4.4408920985e-16\n",
    "9.0 3.0           3.0           0.0\n",
    "```\n",
    "\n",
    "The first column is a number, `a`; the second column is the square root of a computed with the function from Section 7.5; the third column is the square root computed by `math.sqrt`; the fourth column is the absolute value of the difference between the two estimates."
   ]
  },
  {
   "cell_type": "code",
   "execution_count": 27,
   "metadata": {
    "collapsed": false
   },
   "outputs": [
    {
     "name": "stdout",
     "output_type": "stream",
     "text": [
      "1.0  1.0            1.0            1.11022302463e-15\n",
      "2.0  1.41421356237  1.41421356237  1.59472435257e-12\n",
      "3.0  1.73205081001  1.73205080757  2.44585018905e-09\n",
      "4.0  2.0            2.0            0.0\n",
      "5.0  2.23606797792  2.2360679775   4.16013890003e-10\n",
      "6.0  2.44948974278  2.44948974278  8.881784197e-16\n",
      "7.0  2.64575131106  2.64575131106  1.02584607475e-13\n",
      "8.0  2.82842712475  2.82842712475  3.18944870514e-12\n"
     ]
    }
   ],
   "source": [
    "import math\n",
    "def square_root(a):\n",
    "    a = float(a)\n",
    "    x = a/2\n",
    "    while True:\n",
    "        y = (x + a/x) / 2\n",
    "        if abs(y - x) < .00000001: #check the difference\n",
    "            break\n",
    "        x=y #assign x to y for the next loop to get closer\n",
    "    return x #appears as 'guess' in test_square_root\n",
    "\n",
    "def test_square_root():\n",
    "    for a in range(1,9):\n",
    "        guess = square_root(a)\n",
    "        actual = math.sqrt(a)\n",
    "        diff = abs(guess - actual)\n",
    "        print str(float(a)) + \" \",\n",
    "        print str(guess) + (14-len(str(guess)))*' ',\n",
    "        print str(actual) + (14-len(str(actual)))*' ',\n",
    "        print diff\n",
    "    #return None, jus printing today\n",
    "\n",
    "test_square_root()"
   ]
  },
  {
   "cell_type": "markdown",
   "metadata": {},
   "source": [
    "### Challenge: Exercise 5  (optional)\n",
    "The mathematician Srinivasa Ramanujan found an infinite series that can be used to generate a numerical approximation of\n",
    "$\\frac{1}{\\pi}$:\n",
    "\n",
    "$$\\frac{1}{\\pi} = \\frac{2 \\sqrt{2}}{9801} \\sum_{k=0}^{\\infty} \\frac{(4k)! (1103+26390k)}{(k!)^4 396^{4k}}$$\n",
    " \n",
    "Write a function called `estimate_pi` that uses this formula to compute and return an estimate of $\\pi$. It should use a `while` loop to compute terms of the summation until the last term is smaller than `1e-15` (which is Python notation for $10^{−15}$). You can check the result by comparing it to `math.pi`.\n",
    "\n",
    "[Possible solution](http://thinkpython.com/code/pi.py) (give the exercise a try before viewing the solution)"
   ]
  },
  {
   "cell_type": "code",
   "execution_count": 35,
   "metadata": {
    "collapsed": false
   },
   "outputs": [
    {
     "name": "stdout",
     "output_type": "stream",
     "text": [
      "my guess is 0.318309886184\n",
      "real answer is 0.318309886184\n",
      "the difference is...0.0!\n"
     ]
    },
    {
     "data": {
      "text/plain": [
       "'yay, all done'"
      ]
     },
     "execution_count": 35,
     "metadata": {},
     "output_type": "execute_result"
    }
   ],
   "source": [
    "import math\n",
    "def estimate_pi():\n",
    "    k = 0.0\n",
    "    sum = 0.0\n",
    "    while True:\n",
    "        newTerm = (math.factorial(4*k) * (1103 + 26390*k))/(math.factorial(k)**4 * 396**(4*k))\n",
    "        sum = sum + newTerm\n",
    "        k = k + 1.0\n",
    "        if newTerm < 1e-15:\n",
    "            break\n",
    "        elif k>1000 and raw_input(\"> \") == 'done': #just in case infinite loop\n",
    "            print \"escaaaaape!\"\n",
    "            break\n",
    "\n",
    "    myGuess = (2*math.sqrt(2)/9801 ) * sum\n",
    "    print \"my guess is \" + str(myGuess)\n",
    "    print \"real answer is \"+ str(1/(math.pi))\n",
    "    print \"the difference is...\"+str(myGuess-1/math.pi)+\"!\"\n",
    "    return 'yay, all done'\n",
    "estimate_pi()"
   ]
  },
  {
   "cell_type": "markdown",
   "metadata": {},
   "source": [
    "\n",
    "## Reading Journal feedback\n",
    "\n",
    "Have any comments on this Reading Journal? Feel free to leave them below and we'll read them when you submit your journal entry. This could include suggestions to improve the exercises, topics you'd like to see covered in class next time, or other feedback.\n",
    "\n",
    "If you have Python questions or run into problems while completing the reading, you should post them to Piazza instead so you can get a quick response before your journal is submitted."
   ]
  },
  {
   "cell_type": "markdown",
   "metadata": {},
   "source": [
    "I liked it! Curious about recursion since we keep getting hints at that. Nice to finally learn how to use while loops. Github is hard."
   ]
  },
  {
   "cell_type": "markdown",
   "metadata": {},
   "source": [
    " "
   ]
  }
 ],
 "metadata": {
  "kernelspec": {
   "display_name": "Python 2",
   "language": "python",
   "name": "python2"
  },
  "language_info": {
   "codemirror_mode": {
    "name": "ipython",
    "version": 2
   },
   "file_extension": ".py",
   "mimetype": "text/x-python",
   "name": "python",
   "nbconvert_exporter": "python",
   "pygments_lexer": "ipython2",
   "version": "2.7.6"
  }
 },
 "nbformat": 4,
 "nbformat_minor": 0
}
