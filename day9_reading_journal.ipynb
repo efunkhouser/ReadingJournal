{
 "cells": [
  {
   "cell_type": "markdown",
   "metadata": {},
   "source": [
    "# Day 9 Reading Journal\n",
    "\n",
    "This journal includes several required exercises, but it is meant to encourage active reading more generally.  You should use the journal to take detailed notes, catalog questions, and explore the content from Think Python deeply.\n",
    "\n",
    "Reading: Think Python Chapter 13, 15\n",
    "\n",
    "**Due: Monday, February 22 at 12 noon**\n",
    "\n"
   ]
  },
  {
   "cell_type": "markdown",
   "metadata": {},
   "source": [
    "## [Chapter 13](http://www.greenteapress.com/thinkpython/html/thinkpython014.html)\n",
    "\n",
    "The content in this chapter could be very helpful for the text mining mini project. The reading and all exercises within are optional.\n",
    "\n",
    " - Section 13.3-4 gives a good example of some techniques for working with files, processing text, and doing some simple analysis. \n",
    " - Section 13.8 and the Markov generation in Exercise 8 can be a lot of fun. \n",
    " - Now that you know a wide range of different data structures, Section 13.9 starts to give some guidance for choosing between them\n",
    " - Section 13.10 explains Allen's \"4 r's\" of debugging strategy\n",
    " \n",
    "Comparing dictionaries is handy\n",
    "Info on choosing randomly based on a histogram distribution\n",
    "Choose a data structure based on what's easiest and doable runtime; if it takes too long try something else\n",
    "Debugging: read it, run it, ruminate on it, and retreat to the last working iteration."
   ]
  },
  {
   "cell_type": "markdown",
   "metadata": {},
   "source": [
    "## [Chapter 15](http://www.greenteapress.com/thinkpython/html/thinkpython016.html)\n",
    "\n",
    "This chapter has very few (and short) exercises, and is more focused on starting to think about classes and objects. If you haven't seen user defined types like classes before, you should read closely and try out some examples on your own. For example, you can write a [Python Tutor example like this one](http://pythontutor.com/visualize.html#code=%23+Example+for+visualizing+object+diagrams+by+stepping+through+the+code%0A%0Aclass+Point(object%29%3A%0A++++%22%22%22Represents+a+point+in+2-D+space.%22%22%22%0A++++pass%0A%0Aclass+Rectangle(object%29%3A%0A++++%22%22%22Represents+a+rectangle.+%0A%0A++++attributes%3A+width,+height,+corner.%0A++++%22%22%22%0A++++pass%0A%0A%0A%23+Create+a+point+to+serve+as+origin+for+our+rectangles%0Ap+%3D+Point(%29%0Ap.x+%3D+10%0Ap.y+%3D+15%0A%0A%23+Create+two+rectangles+with+different+size%0Ar1+%3D+Rectangle(%29%0Ar1.corner+%3D+p%0Ar1.width+%3D+100%0Ar1.height+%3D+100%0A%0Ar2+%3D+Rectangle(%29%0Ar2.corner+%3D+p%0Ar2.width+%3D+50%0Ar2.height+%3D+200%0A%0A%23+Change+the+width+of+r2+-+what+(if+any%29+is+the+effect+on+r1+and+why%3F%0Ar2.width+%3D+150%0Aprint+r1.width%0A%0A%23+Change+the+corner+position+of+r1+-+what+(if+any%29+is+the+effect+on+r2+and+why%3F%0Ar1.corner.x+%3D+20%0Aprint+r2.corner.x&mode=display&origin=opt-frontend.js&cumulative=false&heapPrimitives=false&textReferences=false&py=2&rawInputLstJSON=%5B%5D&curInstr=0) to explore object diagrams and aliasing.\n",
    "\n",
    "**Note**: The sequence of operations we use in this chapter to create class instances and assign their attributes, e.g. \n",
    "\n",
    "```\n",
    "box = Rectangle()\n",
    "box.width = 100.0\n",
    "box.height = 200.0\n",
    "box.corner = Point()\n",
    "box.corner.x = 0.0\n",
    "box.corner.y = 0.0\n",
    "```\n",
    "\n",
    "is somewhat clumsy and error prone. Things will get better in the next couple chapters; feel free to look ahead if you'd like a sneak preview.\n"
   ]
  },
  {
   "cell_type": "markdown",
   "metadata": {},
   "source": [
    "Sometimes it is useful to define your own type of object so you can make many objects of a certain type. This user-created type is a CLASS. defined like this\n",
    "class WhateverDescriptor(object):\n",
    "    #basically some function shit going on in here\n",
    "   \n",
    "If you create it in the top level, the class is __main__.WhateverDescriptor\n",
    "\n",
    "Once you've made an object you start assigning/naming some fuckin ELEMENTS aka ATTRIBUTES\n",
    "\n",
    "\n",
    "myObj = WhateverDescriptor()\n",
    "myObj.x = 3\n",
    "myObj.y = 4\n",
    "\n",
    "myObj.x means \"go to the object myObj and look at the attribute x.\" Like an internal variable. I think.\n",
    "\n",
    "In a function you can refer to an alias for the object:\n",
    "def print_point(p): #p is the alias\n",
    "    print '(%g,%g)' %(p.x,p.y)\n",
    "    \n",
    "print_point(myObj) >>> (3,4)\n",
    "\n",
    "An object can be an attribute of another object; if so it is EMBEDDED\n",
    "so I could make another class called Rectangle and make an attribute called corner that refers to a point (type WhateverDescriptor)\n",
    "\n",
    "You can modify an object the normal way you'd modify a mutable variable. You can do it in a function as long as you pass it in as an arg.\n",
    "\n",
    "Don't go aliasing all over the place and fucking up your objects. Import copy and do var = copy.copy(myObj) to make...a copy.\n",
    "Making a copy just copies attributes, NOT embedded attributes. It refers back to the originals for those!!!! (does not copy them). Because of this, copy.copy() is called a SHALLOW COPY.\n",
    "\n",
    "To make copies of the attributes (safe life), use copy.deepcopy() and let copy.copy() go fuck itself.\n",
    "\n",
    "If you try to refer to an attribute that doesn't exist, you'll get an AttributeError.\n"
   ]
  },
  {
   "cell_type": "markdown",
   "metadata": {},
   "source": [
    "**Quick check:** In about one sentence using your own words, what is a class?"
   ]
  },
  {
   "cell_type": "markdown",
   "metadata": {},
   "source": [
    "Lists/tuples/dictionaries are all types of data storage/representation objects; creating a class lets a user define their own type of data storage/representation object (I'm not 100% sure yet how/when this is useful). "
   ]
  },
  {
   "cell_type": "markdown",
   "metadata": {
    "is_question": true,
    "problem": "Exercise 15.1"
   },
   "source": [
    "### Exercise 1  \n",
    "\n",
    "Write a function called `distance_between_points` that takes two `Points` as arguments and returns the distance between them."
   ]
  },
  {
   "cell_type": "code",
   "execution_count": 1,
   "metadata": {
    "collapsed": false,
    "solution": "Exercise 15.1"
   },
   "outputs": [
    {
     "name": "stdout",
     "output_type": "stream",
     "text": [
      "10.0\n"
     ]
    }
   ],
   "source": [
    "class Point(object):\n",
    "    '''Defines a point in 2-d space relative to origin (0,0)'''\n",
    "\n",
    "def distance_between_points(p1,p2):\n",
    "    dist = ((p1.x - p2.x)**2 + (p1.y - p2.y)**2)**0.5\n",
    "    return dist\n",
    "\n",
    "#test it\n",
    "point1 = Point()\n",
    "point1.x = 1.0\n",
    "point1.y = 1.0\n",
    "\n",
    "point2 = Point()\n",
    "point2.x = 9.0\n",
    "point2.y = 7.0\n",
    "\n",
    "print distance_between_points(point1,point2) #should print 10.0"
   ]
  },
  {
   "cell_type": "markdown",
   "metadata": {
    "is_question": true,
    "problem": "Exercise 15.2"
   },
   "source": [
    "### Exercise 2  \n",
    "\n",
    "Write a function named `move_rectangle` that takes a `Rectangle` and two numbers named `dx` and `dy`. It should change the location of the rectangle by adding `dx` to the `x` coordinate of `corner` and adding `dy` to the `y` coordinate of `corner`."
   ]
  },
  {
   "cell_type": "code",
   "execution_count": 4,
   "metadata": {
    "collapsed": false,
    "solution": "Exercise 15.2"
   },
   "outputs": [
    {
     "name": "stdout",
     "output_type": "stream",
     "text": [
      "1.0 1.0\n",
      "4.4 1.5\n"
     ]
    }
   ],
   "source": [
    "class Point(object):\n",
    "    '''defines an xy-plane point'''\n",
    "class Rectangle(object):\n",
    "    '''defines a rectangle based on the bottom-left corner, width, and height'''\n",
    "    \n",
    "def move_rectangle(r,dx,dy):\n",
    "    r.corner.x += dx\n",
    "    r.corner.y += dy    \n",
    "\n",
    "point1 = Point()\n",
    "point1.x = 1.0\n",
    "point1.y = 1.0\n",
    "\n",
    "rect = Rectangle()\n",
    "rect.corner = point1\n",
    "rect.height = 5.0\n",
    "rect.width = 2.0\n",
    "\n",
    "print rect.corner.x, rect.corner.y\n",
    "move_rectangle(rect,3.4,0.5)\n",
    "print rect.corner.x, rect.corner.y"
   ]
  },
  {
   "cell_type": "markdown",
   "metadata": {
    "is_question": true,
    "problem": "Exercise 15.3"
   },
   "source": [
    "### Exercise 3  \n",
    "\n",
    "Write a version of `move_rectangle` that creates and returns a new `Rectangle` instead of modifying the old one."
   ]
  },
  {
   "cell_type": "code",
   "execution_count": 6,
   "metadata": {
    "collapsed": false,
    "solution": "Exercise 15.3"
   },
   "outputs": [
    {
     "name": "stdout",
     "output_type": "stream",
     "text": [
      " old rectangle corner location:  1.0 1.0\n",
      "is the old rectangle's corner different?  1.0 1.0\n",
      "where is the new rectangle's corner?  4.4 1.5\n"
     ]
    }
   ],
   "source": [
    "import copy\n",
    "class Point(object):\n",
    "    '''defines an xy-plane point'''\n",
    "class Rectangle(object):\n",
    "    '''defines a rectangle based on the bottom-left corner, width, and height'''\n",
    "    \n",
    "def copy_move_rectangle(r,dx,dy):\n",
    "    new_r = copy.deepcopy(r)\n",
    "    new_r.corner.x += dx\n",
    "    new_r.corner.y += dy\n",
    "    return new_r\n",
    "\n",
    "point1 = Point()\n",
    "point1.x = 1.0\n",
    "point1.y = 1.0\n",
    "\n",
    "rect = Rectangle()\n",
    "rect.corner = point1\n",
    "rect.height = 5.0\n",
    "rect.width = 2.0\n",
    "\n",
    "print \"old rectangle corner location: \", rect.corner.x, rect.corner.y\n",
    "new_rect = copy_move_rectangle(rect,3.4,0.5)\n",
    "print \"is the old rectangle's corner different? \", rect.corner.x, rect.corner.y\n",
    "print \"where is the new rectangle's corner? \", new_rect.corner.x, new_rect.corner.y"
   ]
  },
  {
   "cell_type": "markdown",
   "metadata": {
    "is_question": true,
    "problem": "Time spent"
   },
   "source": [
    "## Quick poll\n",
    "About how long did you spend working on this Reading Journal?"
   ]
  },
  {
   "cell_type": "markdown",
   "metadata": {
    "poll_response": true,
    "solution": "Time spent"
   },
   "source": [
    "2.5 hrs "
   ]
  },
  {
   "cell_type": "markdown",
   "metadata": {
    "is_question": true,
    "problem": "Feedback"
   },
   "source": [
    "## Reading Journal feedback\n",
    "\n",
    "Have any comments on this Reading Journal? Feel free to leave them below and we'll read them when you submit your journal entry. This could include suggestions to improve the exercises, topics you'd like to see covered in class next time, or other feedback.\n",
    "\n",
    "If you have Python questions or run into problems while completing the reading, you should post them to Piazza instead so you can get a quick response before your journal is submitted."
   ]
  },
  {
   "cell_type": "markdown",
   "metadata": {
    "feedback_response": true,
    "solution": "Feedback"
   },
   "source": [
    "Why is there nothing in the body of a class except the docstring?? Looking forward to learning more about when these get really useful. "
   ]
  }
 ],
 "metadata": {
  "celltoolbar": "Edit Metadata",
  "kernelspec": {
   "display_name": "Python 2",
   "language": "python",
   "name": "python2"
  },
  "language_info": {
   "codemirror_mode": {
    "name": "ipython",
    "version": 2
   },
   "file_extension": ".py",
   "mimetype": "text/x-python",
   "name": "python",
   "nbconvert_exporter": "python",
   "pygments_lexer": "ipython2",
   "version": "2.7.6"
  }
 },
 "nbformat": 4,
 "nbformat_minor": 0
}
