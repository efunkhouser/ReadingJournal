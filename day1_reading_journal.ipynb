{
 "cells": [
  {
   "cell_type": "markdown",
   "metadata": {},
   "source": [
    "# Day 1 Reading Journal\n",
    "\n",
    "Hi everyone.  These are the exercises for the first set of readings from ThinkPython.  While this journal consists of several required exercises, it is meant to encourage active reading more generally.  You should use this journal to take detailed notes, catalog questions, and explore the content from ThinkPython deeply.\n",
    "\n",
    "For more information on using the Jupyter notebook, check out the documentation [here](http://nbviewer.jupyter.org/github/jupyter/notebook/blob/master/docs/source/examples/Notebook/Examples%20and%20Tutorials%20Index.ipynb).  Additionally, in order to write text in this document, you will be making use of markdown cells. A handy cheatsheet for markdown is available [here](https://github.com/adam-p/markdown-here/wiki/Markdown-Cheatsheet)."
   ]
  },
  {
   "cell_type": "markdown",
   "metadata": {},
   "source": [
    "## Chapter 1\n",
    "\n",
    "Note: the exercise numbers below match up with the reading for ease of cross referencing.\n",
    "\n",
    "Question: is sublime an interpreter or just an editor? can I run python from sublime? RESOLVED\n",
    "\n",
    "All programming is made of inputs, outputs, math-doing, conditional statement checks, and repetition.\n",
    "\n"
   ]
  },
  {
   "cell_type": "markdown",
   "metadata": {},
   "source": [
    "### Exercise 3\n",
    "\n",
    "Type `help()` to start the online help utility. Or you can type help('print') to get information about the print statement.  You should type `q` and then hit `enter` in the text box to exit the help utility. \n",
    "\n",
    "Note: this exercise is pretty simple (and there's not much to put in the box)!  We just want to make sure that you have tried out this super-handy feature of Python!\n",
    "\n",
    "Formal language vs. natural language\n",
    "\n",
    "Formal language has no ambiguity, ie. one statement can mean only one thing so you don't need contextual clues.\n",
    "Formal language is concise with no repetitiveness and direct with no idioms."
   ]
  },
  {
   "cell_type": "code",
   "execution_count": 3,
   "metadata": {
    "collapsed": false
   },
   "outputs": [
    {
     "name": "stdout",
     "output_type": "stream",
     "text": [
      "help for print\n",
      "The ``print`` statement\n",
      "***********************\n",
      "\n",
      "   print_stmt ::= \"print\" ([expression (\",\" expression)* [\",\"]]\n",
      "                  | \">>\" expression [(\",\" expression)+ [\",\"]])\n",
      "\n",
      "``print`` evaluates each expression in turn and writes the resulting\n",
      "object to standard output (see below).  If an object is not a string,\n",
      "it is first converted to a string using the rules for string\n",
      "conversions.  The (resulting or original) string is then written.  A\n",
      "space is written before each object is (converted and) written, unless\n",
      "the output system believes it is positioned at the beginning of a\n",
      "line.  This is the case (1) when no characters have yet been written\n",
      "to standard output, (2) when the last character written to standard\n",
      "output is a whitespace character except ``' '``, or (3) when the last\n",
      "write operation on standard output was not a ``print`` statement. (In\n",
      "some cases it may be functional to write an empty string to standard\n",
      "output for this reason.)\n",
      "\n",
      "Note: Objects which act like file objects but which are not the built-in\n",
      "  file objects often do not properly emulate this aspect of the file\n",
      "  object's behavior, so it is best not to rely on this.\n",
      "\n",
      "A ``'\\n'`` character is written at the end, unless the ``print``\n",
      "statement ends with a comma.  This is the only action if the statement\n",
      "contains just the keyword ``print``.\n",
      "\n",
      "Standard output is defined as the file object named ``stdout`` in the\n",
      "built-in module ``sys``.  If no such object exists, or if it does not\n",
      "have a ``write()`` method, a ``RuntimeError`` exception is raised.\n",
      "\n",
      "``print`` also has an extended form, defined by the second portion of\n",
      "the syntax described above. This form is sometimes referred to as\n",
      "\"``print`` chevron.\" In this form, the first expression after the\n",
      "``>>`` must evaluate to a \"file-like\" object, specifically an object\n",
      "that has a ``write()`` method as described above.  With this extended\n",
      "form, the subsequent expressions are printed to this file object.  If\n",
      "the first expression evaluates to ``None``, then ``sys.stdout`` is\n",
      "used as the file for output.\n",
      "\n"
     ]
    }
   ],
   "source": [
    "print 'help for print'\n",
    "help('print')"
   ]
  },
  {
   "cell_type": "markdown",
   "metadata": {},
   "source": [
    "### Exercise 4  \n",
    "\n",
    "Start the Python interpreter and use it as a calculator. Python’s syntax for math operations is almost the same as standard mathematical notation. For example, the symbols +, - and / denote addition, subtraction and division, as you would expect. The symbol for multiplication is *.\n",
    "\n",
    "If you run a 10 kilometer race in 43 minutes 30 seconds, what is your average time per mile? What is your average speed in miles per hour? (Hint: there are 1.61 kilometers in a mile). "
   ]
  },
  {
   "cell_type": "code",
   "execution_count": 4,
   "metadata": {
    "collapsed": false
   },
   "outputs": [
    {
     "name": "stdout",
     "output_type": "stream",
     "text": [
      "hours per mile = 0.116725\n",
      "miles per hour = 8.56714499893\n"
     ]
    }
   ],
   "source": [
    "timePerMile = (43.5/60) / (10/1.61)\n",
    "speed = (10.0/1.61) / (43.5/ 60.0)\n",
    "print 'hours per mile = ' + str(timePerMile)\n",
    "print 'miles per hour = ' + str(speed)"
   ]
  },
  {
   "cell_type": "markdown",
   "metadata": {},
   "source": [
    "## Chapter 2\n",
    "\n",
    "Representing variables on paper: 'state diagram', arrow points from name to value\n",
    "\n",
    "Can't assign anything to python's KEYWORDS, which tell the interpreter how to interpret the structure of the program:\n",
    "and as assert break class continue def del elif else except exec finally for from global if import in is lambda not or pass print raise return try while with yield\n",
    "\n",
    "But all it will say as error is \"SyntaxError: invalid syntax\" lol\n",
    "\n",
    "You can multiply on strings by using *\n",
    "'Butt' * 3 becomes 'ButtButtButt'\n",
    "Comments with #\n",
    "runtime errors: something goes wrong while it's running\n",
    "semantic errors: you told it to do the wrong thing"
   ]
  },
  {
   "cell_type": "markdown",
   "metadata": {},
   "source": [
    "### Exercise 2  \n",
    "\n",
    "Assume that we execute the following assignment statements:\n",
    "\n",
    "width = 17\n",
    "height = 12.0\n",
    "delimiter = '.'\n",
    "\n",
    "For each of the following expressions, write the value of the expression and the type (of the value of the expression).\n",
    "\n",
    "1. `width/2` 8, integer\n",
    "2. `width/2.0` 8.5, float\n",
    "3. `height/3` 4.0, float\n",
    "4. `1 + 2 * 5` 15, int\n",
    "5. `delimiter * 5` ..... str\n",
    "\n",
    "Please use the following markdown cell to provide your answer."
   ]
  },
  {
   "cell_type": "markdown",
   "metadata": {},
   "source": [
    "1. 8, int\n",
    "2. 8.5, float\n",
    "3. 4.0, float\n",
    "4. 15, int\n",
    "5. ..... str"
   ]
  },
  {
   "cell_type": "markdown",
   "metadata": {},
   "source": [
    "### Exercise 3  \n",
    "\n",
    "Practice using the Python interpreter as a calculator.  For each of these provide Python code that computes each answer.\n",
    "\n",
    "    \n"
   ]
  },
  {
   "cell_type": "markdown",
   "metadata": {},
   "source": [
    "The volume of a sphere with radius r is 4/3 $\\pi r^3$. What is the volume of a sphere with radius 5? Hint: 392.7 is wrong!"
   ]
  },
  {
   "cell_type": "code",
   "execution_count": 5,
   "metadata": {
    "collapsed": false
   },
   "outputs": [
    {
     "name": "stdout",
     "output_type": "stream",
     "text": [
      "523.6\n"
     ]
    }
   ],
   "source": [
    "volume = (4.0/3.0)*3.1416*(5.0**3)\n",
    "print volume"
   ]
  },
  {
   "cell_type": "markdown",
   "metadata": {},
   "source": [
    "Suppose the cover price of a book is \\$24.95, but bookstores get a 40% discount. Shipping costs \\$3 for the first copy and 75 cents for each additional copy. What is the total wholesale cost for 60 copies?"
   ]
  },
  {
   "cell_type": "code",
   "execution_count": 7,
   "metadata": {
    "collapsed": false
   },
   "outputs": [
    {
     "name": "stdout",
     "output_type": "stream",
     "text": [
      "646.05\n"
     ]
    }
   ],
   "source": [
    "bookCost = 24.95*0.40\n",
    "totalCost = bookCost*60 + (3 + 59*0.75)\n",
    "print totalCost"
   ]
  },
  {
   "cell_type": "markdown",
   "metadata": {},
   "source": [
    "If I leave my house at 6:52 am and run 1 mile at an easy pace (8:15 per mile), then 3 miles at tempo (7:12 per mile) and 1 mile at easy pace again, what time do I get home for breakfast? \n",
    "\n",
    "minutes = 8 + 3*7\n",
    "seconds = 15 + 3*12\n",
    "totalMinutes = minutes + seconds/60\n",
    "totalSeconds = seconds % 60\n",
    "#Now add these onto starting time\n",
    "totalMinutes = 52 + totalMinutes\n",
    "hours = 6 + totalMinutes//60\n",
    "min = totalMinutes % 60\n",
    "sec = totalSeconds\n",
    "print str(hours)+':'+str(min)+':'+str(sec)\n",
    "\n",
    "Result: 7:21:52 correct!!!"
   ]
  },
  {
   "cell_type": "markdown",
   "metadata": {},
   "source": [
    "## Chapter 3"
   ]
  },
  {
   "cell_type": "markdown",
   "metadata": {},
   "source": [
    "MODULE is a file that contains a collection of related functions.\n",
    "import module (\"import math\") statement creates a MODULE OBJECT containing functions and variables. To access a function or variable in the module object, specify the name of the module and the name of the function separated by a period.\n",
    "ie >>> decibels = 10 * math.log10(signal_power/noise_power)\n",
    "\n",
    "You can import using \"from\":\n",
    ">>> from math import pi\n",
    "or\n",
    ">>> from math import * #asterisk means all things in that module\n",
    "\n",
    "Advantages: concise, readable. Disadvantages: could conflict with other module elements or your variable names.\n",
    "\n",
    "Making a FUNCTION: def function_name(): (header line)\n",
    "the inside is the BODY and must be indented.\n",
    "\n",
    "Type is FUNCTION OBJECT.\n",
    "\n",
    "Must define a function before the first time it is called!\n",
    "\n",
    "The FLOW OF EXECUTION is the order in which python executes statements - top to bottom, skipping function bodies until it must execute them, then skips up there then back down when done executing.\n",
    "\n",
    "Organize this flow, local vars/parameters, etc by drawing a STACK DIAGRAM, which stacks the functions in order of motherhood (motherfunction, aka __main__, on top). the variables/parameters (and what they contain/represent) are defined in FRAMES, or boxes, with the function name beside.\n",
    "\n",
    "FRUITFUL FUNCTIONS is a term allen downey literally made up for functions that don't return anything even if they perform an action. \n",
    "\n",
    "VOID FUNCTIONS is a real term for functions that don't return anything. If you ask for a variable assigned to that function return you get None which is its own type."
   ]
  },
  {
   "cell_type": "markdown",
   "metadata": {},
   "source": [
    "### Exercise 3\n",
    "\n",
    "Python provides a built-in function called len that returns the length of a string, so the value of len('allen') is 5.\n",
    "Write a function named right_justify that takes a string named s as a parameter and prints the string with enough leading spaces so that the last letter of the string is in column 70 of the display.\n",
    "\n",
    "```\n",
    ">>> right_justify('allen')\n",
    "                                                                 allen```\n",
    "                                                                 \n",
    "                                                              "
   ]
  },
  {
   "cell_type": "code",
   "execution_count": 9,
   "metadata": {
    "collapsed": false
   },
   "outputs": [
    {
     "name": "stdout",
     "output_type": "stream",
     "text": [
      "                                                                 allen\n"
     ]
    }
   ],
   "source": [
    "def right_justify(s):\n",
    "    spacesNeeded = 70 - len(s)\n",
    "    print spacesNeeded*' '+s\n",
    "    \n",
    "right_justify('allen')"
   ]
  },
  {
   "cell_type": "markdown",
   "metadata": {},
   "source": [
    "### Exercise 5\n",
    "\n",
    "This exercise can be done using only the statements and other features we have learned so far.\n",
    "\n",
    "(a) Write a function that draws a grid like the following:\n",
    "```\n",
    "+ - - - - + - - - - +\n",
    "|         |         |\n",
    "|         |         |\n",
    "|         |         |\n",
    "|         |         |\n",
    "+ - - - - + - - - - +\n",
    "|         |         |\n",
    "|         |         |\n",
    "|         |         |\n",
    "|         |         |\n",
    "+ - - - - + - - - - +\n",
    "```\n",
    "**Hint:** to print more than one value on a line, you can print a comma-separated sequence:\n",
    "print '+', '-'\n",
    "If the sequence ends with a comma, Python leaves the line unfinished, so the value printed next appears on the same line.\n",
    "print '+', \n",
    "print '-'\n",
    "The output of these statements is '+ -'.\n",
    "A print statement all by itself ends the current line and goes to the next line."
   ]
  },
  {
   "cell_type": "code",
   "execution_count": 10,
   "metadata": {
    "collapsed": false
   },
   "outputs": [
    {
     "name": "stdout",
     "output_type": "stream",
     "text": [
      "+ - - - - + - - - - +\n",
      "|         |         |\n",
      "|         |         |\n",
      "|         |         |\n",
      "|         |         |\n",
      "+ - - - - + - - - - +\n",
      "|         |         |\n",
      "|         |         |\n",
      "|         |         |\n",
      "|         |         |\n",
      "+ - - - - + - - - - +\n",
      "\n"
     ]
    }
   ],
   "source": [
    "def drawWindow(paneWidth,paneHeight,gridWidth,gridHeight):\n",
    "\n",
    "    topLine = gridWidth * ('+ ' + paneWidth*'- ') + '+' + '\\n'\n",
    "\n",
    "    paneBody = paneHeight*(gridWidth * ('| ' + paneWidth*'  ') + '|' + '\\n')\n",
    "\n",
    "    fullWindow = gridHeight*(topLine + paneBody) + topLine\n",
    "    \n",
    "    return fullWindow\n",
    "\n",
    "print drawWindow(4,4,2,2)"
   ]
  },
  {
   "cell_type": "markdown",
   "metadata": {},
   "source": [
    "(b) Write a function that draws a similar grid with four rows and four columns."
   ]
  },
  {
   "cell_type": "code",
   "execution_count": 11,
   "metadata": {
    "collapsed": false
   },
   "outputs": [
    {
     "name": "stdout",
     "output_type": "stream",
     "text": [
      "+ - - - - + - - - - + - - - - + - - - - +\n",
      "|         |         |         |         |\n",
      "|         |         |         |         |\n",
      "|         |         |         |         |\n",
      "|         |         |         |         |\n",
      "+ - - - - + - - - - + - - - - + - - - - +\n",
      "|         |         |         |         |\n",
      "|         |         |         |         |\n",
      "|         |         |         |         |\n",
      "|         |         |         |         |\n",
      "+ - - - - + - - - - + - - - - + - - - - +\n",
      "|         |         |         |         |\n",
      "|         |         |         |         |\n",
      "|         |         |         |         |\n",
      "|         |         |         |         |\n",
      "+ - - - - + - - - - + - - - - + - - - - +\n",
      "|         |         |         |         |\n",
      "|         |         |         |         |\n",
      "|         |         |         |         |\n",
      "|         |         |         |         |\n",
      "+ - - - - + - - - - + - - - - + - - - - +\n",
      "\n"
     ]
    }
   ],
   "source": [
    "def drawWindow(paneWidth,paneHeight,gridWidth,gridHeight):\n",
    "\n",
    "    topLine = gridWidth * ('+ ' + paneWidth*'- ') + '+' + '\\n'\n",
    "\n",
    "    paneBody = paneHeight*(gridWidth * ('| ' + paneWidth*'  ') + '|' + '\\n')\n",
    "\n",
    "    fullWindow = gridHeight*(topLine + paneBody) + topLine\n",
    "    \n",
    "    return fullWindow\n",
    "\n",
    "print drawWindow(4,4,4,4)"
   ]
  },
  {
   "cell_type": "markdown",
   "metadata": {},
   "source": [
    "## Chapter 5.1 - 5.7"
   ]
  },
  {
   "cell_type": "markdown",
   "metadata": {},
   "source": [
    "MODULUS OPERATOR (%) calculates the remainder; useful bc if there is none, returns 0 (yay boolean time)\n",
    "\n",
    "BOOLEAN type bool is either True or False (not strings)\n",
    "\n",
    "There are RELATIONAL OPERATORS to check relationships between things\n",
    "== equal\n",
    "!= not equal\n",
    ">, <, >=, <=\n",
    "\n",
    "LOGICAL OPERATORS help group/divide things for comparisons:\n",
    "and, or, not\n",
    "\n",
    "If you're connecting things with a logical operator, they're interpreted as boolean expressions; Python calls any nonzero number in this case True\n",
    "\n",
    "COMPOUND STATEMENTS are the kind with a header and an indented body, like conditional statements and functions.\n",
    "\n",
    "if blah:\n",
    "    pass\n",
    "Gives the ability to have it do nothing/ignore the body\n",
    "\n",
    "ALTERNATIVE EXECUTION is the name for the else in if/else\n",
    "\n",
    "CHAINED CONDITIONAL is when you bring elifs into it\n",
    "They are checked in order!! And if one is true, the statement executes then ends, even if others are true. So.\n",
    "\n",
    "Try to avoid NESTED CONDITIONALS as they are the devil's handiwork and will surely rip apart your code from the inside like an evil fetus in the womb. Or slightly trouble your reader.\n",
    "\n",
    "\n"
   ]
  },
  {
   "cell_type": "markdown",
   "metadata": {},
   "source": [
    "### Exercise 3  \n",
    "\n",
    "Fermat’s Last Theorem says that there are no positive integers a, b, and c such that $a^n + b^n = c^n$ for any values of n greater than 2.\n",
    "\n",
    "(a) Write a function named `check_fermat` that takes four parameters—a, b, c and n—and that checks to see if Fermat’s theorem holds. If n is greater than 2 and it turns out to be true that\n",
    "$a^n + b^n = c^n$ the program should print, \"Holy smokes, Fermat was wrong!\" Otherwise the program should print, \"No, that doesn’t work.\""
   ]
  },
  {
   "cell_type": "code",
   "execution_count": 12,
   "metadata": {
    "collapsed": false
   },
   "outputs": [
    {
     "name": "stdout",
     "output_type": "stream",
     "text": [
      "No, that doesn't work. Sorry son.\n"
     ]
    }
   ],
   "source": [
    "def check_fermat(a,b,c,n):\n",
    "    if n > 2:\n",
    "        if (a**n + b**n) == c**n:\n",
    "            return \"Holy smokes, Fermat was wrong! Nice job hotshot.\"\n",
    "        else:\n",
    "            return \"No, that doesn't work. Sorry son.\"\n",
    "    else:\n",
    "        return \"What did you think the point of this exercise was there pythagoras\"\n",
    "        \n",
    "print check_fermat(1,4,7,3)\n",
    "    "
   ]
  },
  {
   "cell_type": "markdown",
   "metadata": {},
   "source": [
    "(b) Write a function that prompts the user to input values for a, b, c and n, converts them to integers, and uses check_fermat to check whether they violate Fermat’s theorem."
   ]
  },
  {
   "cell_type": "code",
   "execution_count": 13,
   "metadata": {
    "collapsed": false
   },
   "outputs": [
    {
     "name": "stdout",
     "output_type": "stream",
     "text": [
      "1 4 7 3\n",
      "No, that doesn't work. Sorry son.\n"
     ]
    }
   ],
   "source": [
    "def check_fermat(a,b,c,n):\n",
    "    a = int(a)\n",
    "    b = int(b)\n",
    "    c = int(c)\n",
    "    n = int(n)\n",
    "    print a,b,c,n\n",
    "    if n > 2:\n",
    "        if (a**n + b**n) == c**n:\n",
    "            return \"Holy smokes, Fermat was wrong! Nice job hotshot.\"\n",
    "        else:\n",
    "            return \"No, that doesn't work. Sorry son.\"\n",
    "    else:\n",
    "        return \"What did you think the point of this exercise was there pythagoras\"\n",
    "        \n",
    "print check_fermat(1.4,4.8,7.2,3.9)"
   ]
  },
  {
   "cell_type": "markdown",
   "metadata": {},
   "source": [
    "### Exercise 4  \n",
    "\n",
    "If you are given three sticks, you may or may not be able to arrange them in a triangle. For example, if one of the sticks is 12 inches long and the other two are one inch long, it is clear that you will not be able to get the short sticks to meet in the middle. For any three lengths, there is a simple test to see if it is possible to form a triangle:\n",
    "> If any of the three lengths is greater than the sum of the other two, then you cannot form a triangle. Otherwise, you can. (If the sum of two lengths equals the third, they form what is called a “degenerate” triangle.)\n",
    "\n",
    "(a) Write a function named `is_triangle` that takes three integers as arguments, and that prints either \"Yes\" or \"No,\" depending on whether you can or cannot form a triangle from sticks with the given lengths."
   ]
  },
  {
   "cell_type": "code",
   "execution_count": 15,
   "metadata": {
    "collapsed": false
   },
   "outputs": [
    {
     "name": "stdout",
     "output_type": "stream",
     "text": [
      "Yah\n"
     ]
    }
   ],
   "source": [
    "def is_triangle(a,b,c):\n",
    "    if (a+b)<c or (a+c)<b or (b+c)<a:\n",
    "        return \"Nah\"\n",
    "    else:\n",
    "        return \"Yah\"\n",
    "print is_triangle(1,3,5) #should return 'Nah'\n",
    "print is_triangle(4,5,6) #should return 'Yah'"
   ]
  },
  {
   "cell_type": "markdown",
   "metadata": {},
   "source": [
    "(b) Write a function that prompts the user to input three stick lengths, converts them to integers, and uses is_triangle to check whether sticks with the given lengths can form a triangle."
   ]
  },
  {
   "cell_type": "code",
   "execution_count": 18,
   "metadata": {
    "collapsed": false
   },
   "outputs": [
    {
     "name": "stdout",
     "output_type": "stream",
     "text": [
      "Gimme a number fool \n",
      "3\n",
      "AGAIN \n",
      "4\n",
      "ONE MORE FOR THE TRIANGLE OVERLORDS \n",
      "5\n",
      "Yah\n"
     ]
    }
   ],
   "source": [
    "#prompt for side lengths and convert them to integers\n",
    "num1 = int(raw_input('Gimme a number fool \\n'))\n",
    "num2 = int(raw_input('AGAIN \\n'))\n",
    "num3 = int(raw_input('ONE MORE FOR THE TRIANGLE OVERLORDS \\n'))\n",
    "\n",
    "\n",
    "def is_triangle(a,b,c):\n",
    "    if (a+b)<c or (a+c)<b or (b+c)<a:\n",
    "        return \"Nah\"\n",
    "    else:\n",
    "        return \"Yah\"\n",
    "\n",
    "print is_triangle(num1,num2,num3)"
   ]
  },
  {
   "cell_type": "markdown",
   "metadata": {},
   "source": [
    "## Notes for the Instructors\n",
    "\n",
    "Please use the space below to write comments to help us plan the next class session.  For instance, if you want to see us go over an example of a particular type of problem, you can indicate that here.\n",
    "\n",
    "Please remember that the best way to get quick feedback from the instructors as well as your peers, is to use Piazza.  However, consider using this channel if it doesn't make sense to post your note to Piazza."
   ]
  },
  {
   "cell_type": "markdown",
   "metadata": {},
   "source": [
    "Thanks all! This was a helpful overview"
   ]
  },
  {
   "cell_type": "markdown",
   "metadata": {},
   "source": []
  }
 ],
 "metadata": {
  "kernelspec": {
   "display_name": "Python 2",
   "language": "python",
   "name": "python2"
  },
  "language_info": {
   "codemirror_mode": {
    "name": "ipython",
    "version": 2
   },
   "file_extension": ".py",
   "mimetype": "text/x-python",
   "name": "python",
   "nbconvert_exporter": "python",
   "pygments_lexer": "ipython2",
   "version": "2.7.6"
  }
 },
 "nbformat": 4,
 "nbformat_minor": 0
}
