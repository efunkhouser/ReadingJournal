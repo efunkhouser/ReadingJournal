{
 "cells": [
  {
   "cell_type": "markdown",
   "metadata": {},
   "source": [
    "# Day 10 Reading Journal\n",
    "\n",
    "This journal includes several required exercises, but it is meant to encourage active reading more generally.  You should use the journal to take detailed notes, catalog questions, and explore the content from Think Python deeply.\n",
    "\n",
    "Reading: Think Python Chapter 16, 17\n",
    "\n",
    "**Due: Thursday, February 25 at 12 noon**\n",
    "\n"
   ]
  },
  {
   "cell_type": "markdown",
   "metadata": {},
   "source": [
    "## [Chapter 16](http://www.greenteapress.com/thinkpython/html/thinkpython017.html)\n"
   ]
  },
  {
   "cell_type": "markdown",
   "metadata": {},
   "source": [
    "A PURE FUNCTION (creepy ass name) doesn't modify any of its arguments or do anything except return some shit it made up.\n",
    "If a function does change its input parameters, it's a MODIFIER.\n",
    "\n",
    "In general pure functions are better (ew) and you should try to stick to them like a right proper FUNCTIONAL PROGRAMMER.\n",
    "\n",
    "Using the 'assert' command is for making sure you're not in an error case and it's basically saying \"I'm p sure this shit is true, so just go make sure, kthx python\""
   ]
  },
  {
   "cell_type": "markdown",
   "metadata": {
    "is_question": true,
    "problem": "Exercise 16.2"
   },
   "source": [
    "### Exercise 2  \n",
    "\n",
    "Write a boolean function called `is_after` that takes two `Time` objects, `t1` and `t2`, and returns `True` if `t1` follows `t2` chronologically and `False` otherwise. Challenge: don’t use an `if` statement. "
   ]
  },
  {
   "cell_type": "code",
   "execution_count": 2,
   "metadata": {
    "collapsed": false,
    "solution": "Exercise 16.2"
   },
   "outputs": [
    {
     "name": "stdout",
     "output_type": "stream",
     "text": [
      "True\n",
      "False\n"
     ]
    }
   ],
   "source": [
    "class Time(object):\n",
    "    '''h m s'''\n",
    "\n",
    "def time_to_int(t):\n",
    "    minutes = 60 * t.hours + t.minutes\n",
    "    seconds = 60 * minutes + t.seconds\n",
    "\n",
    "def is_after(t1,t2):\n",
    "    int1 = time_to_int(t1)\n",
    "    int2 = time_to_int(t2)\n",
    "    return t1 > t2\n",
    "\n",
    "#testing\n",
    "t1 = Time()\n",
    "t1.seconds = 40\n",
    "t1.minutes = 23\n",
    "t1.hours = 4\n",
    "\n",
    "t2 = Time()\n",
    "t2.seconds = 29\n",
    "t2.minutes = 51\n",
    "t2.hours = 1\n",
    "\n",
    "print is_after(t1,t2) #true\n",
    "print is_after(t2,t1) #false"
   ]
  },
  {
   "cell_type": "markdown",
   "metadata": {},
   "source": [
    "## [Chapter 17](http://www.greenteapress.com/thinkpython/html/thinkpython018.html)\n",
    "\n",
    "In chapter 17 we finally have the tools to really put user-defined classes to work! In the exercises for this reading journal, we'll go back and add methods to your `Point` class from Chapter 15 to make it a lot easier to use."
   ]
  },
  {
   "cell_type": "markdown",
   "metadata": {},
   "source": [
    "a METHOD is like a function that is inside and for a particular class. Syntax is a bit different too:\n",
    "you could pass it in like a func parameter (Time.print_time(startTime)\n",
    "or you can name the param as the SUBJECT:\n",
    "startTime.print_time()\n",
    "The subject is the first parameter.\n",
    "By convention, the subject is named self.\n",
    "self.hour, self.minute, etc...\n",
    "Putting the subject first implies we are letting the object do its own shit rather than a function acting on it.\n",
    "\n",
    "Anything in the parens, ie\n",
    "self.print_time(secs) is assigned to the object's first attribute.\n",
    "To initialize attributes in a class...\n",
    "    def __init__(self, param1, param2, etc):\n",
    "        self.attribute1 = param1\n",
    "        self.attribute2 = param2\n",
    "        etc\n",
    "        \n",
    "should also define string method\n",
    "    def __str__(self):\n",
    "        return self\n",
    "        \n",
    "etc\n",
    "\n",
    "Certain special methods let you overwrite python's regular operators to do special shit in your class. This is called OPERATOR OVERLOADING.\n",
    "\n",
    "TYPE-BASED DISPATCH statements direct computation to different avenues based on the argument types.\n",
    "\n",
    "Define all your attributes in init!! If you need to check what attributes you have, objName.__dict__ gives them in a dictionary (attribute name: attribute value)\n",
    "hasattr and getattr are built-in functions."
   ]
  },
  {
   "cell_type": "markdown",
   "metadata": {
    "is_question": true,
    "problem": "Exercise 17.2"
   },
   "source": [
    "# Exercise 2  \n",
    "\n",
    "Write an init method for the `Point` class that takes `x` and `y` as optional parameters and assigns them to the corresponding attributes. "
   ]
  },
  {
   "cell_type": "code",
   "execution_count": 6,
   "metadata": {
    "collapsed": false,
    "solution": "Exercise 17.2"
   },
   "outputs": [],
   "source": [
    "class Point(object):\n",
    "    def __init__(self, x=0, y=0):\n",
    "        self.x = x\n",
    "        self.y = y\n"
   ]
  },
  {
   "cell_type": "markdown",
   "metadata": {
    "is_question": true,
    "problem": "Exercise 17.3"
   },
   "source": [
    "### Exercise 3  \n",
    "\n",
    "Write a str method for the `Point` class. Create a `Point` object and print it."
   ]
  },
  {
   "cell_type": "code",
   "execution_count": null,
   "metadata": {
    "collapsed": true,
    "solution": "Exercise 17.3"
   },
   "outputs": [],
   "source": [
    "class Point(object):\n",
    "    def __init__(self, x=0, y=0):\n",
    "        self.x = x\n",
    "        self.y = y\n",
    "    def __str__(self):\n",
    "        return \"(%s, %s)\" %(self.x, self.y)\n",
    "    \n",
    "p = Point(1,3)\n",
    "print p\n",
    "print p.__str__()"
   ]
  },
  {
   "cell_type": "markdown",
   "metadata": {
    "is_question": true,
    "problem": "Exercise 17.4"
   },
   "source": [
    "### Exercise 4  \n",
    "\n",
    "Write an add method for the `Point` class. Optional: implement operator overloading so that you can use the '+' operator."
   ]
  },
  {
   "cell_type": "code",
   "execution_count": 10,
   "metadata": {
    "collapsed": false,
    "solution": "Exercise 17.4"
   },
   "outputs": [
    {
     "name": "stdout",
     "output_type": "stream",
     "text": [
      "(4, -1)\n",
      "(4, -1)\n"
     ]
    }
   ],
   "source": [
    "class Point(object):\n",
    "    def __init__(self, x=0, y=0):\n",
    "        self.x = x\n",
    "        self.y = y\n",
    "    def __str__(self):\n",
    "        return \"(%s, %s)\" %(self.x, self.y)\n",
    "    def __add__(self, other):\n",
    "        \n",
    "        new_x = self.x + other.x\n",
    "        new_y = self.y + other.y\n",
    "        return Point(new_x,new_y)\n",
    "    \n",
    "p = Point(1,-3)\n",
    "p2 = Point(3,2)\n",
    "print (p+p2)\n",
    "print Point.__add__(p,p2)"
   ]
  },
  {
   "cell_type": "markdown",
   "metadata": {
    "is_question": true,
    "problem": "Exercise 17.7"
   },
   "source": [
    "### Exercise 7  \n",
    "\n",
    "This exercise is a cautionary tale about one of the most common, and difficult to find, errors in Python. Write a definition for a class named `Kangaroo` with the following methods:\n",
    "\n",
    " 1. An `__init__` method that initializes an attribute named `pouch_contents` to an empty list.\n",
    " 2. A method named `put_in_pouch` that takes an object of any type and adds it to `pouch_contents`.\n",
    " 3. A `__str__` method that returns a string representation of the `Kangaroo` object and the contents of the pouch.\n",
    "\n",
    "Test your code by creating two `Kangaroo` objects, assigning them to variables named `kanga` and `roo`, and then adding `roo` to the contents of `kanga`’s pouch.\n",
    "\n",
    "Download http://thinkpython.com/code/BadKangaroo.py. It contains a solution to the previous problem with one big, nasty bug. Find and fix the bug.\n",
    "\n",
    "If you get stuck, you can download http://thinkpython.com/code/GoodKangaroo.py, which explains the problem and demonstrates a solution. "
   ]
  },
  {
   "cell_type": "code",
   "execution_count": 36,
   "metadata": {
    "collapsed": false,
    "solution": "Exercise 17.7"
   },
   "outputs": [
    {
     "name": "stdout",
     "output_type": "stream",
     "text": [
      "In the pouch of Kanga there is: peach wristwatch cannonball In the pouch of roo there is: football Kanye  \n",
      "In the pouch of roo there is: football Kanye \n",
      "<__main__.Kangaroo object at 0x7f19e99705d0> with pouch contents:\n",
      "    'wallet'\n",
      "    'car keys'\n",
      "    <__main__.Kangaroo object at 0x7f19e872a390>\n",
      "<__main__.Kangaroo object at 0x7f19e872a390> with pouch contents:\n",
      "    'wallet'\n",
      "    'car keys'\n",
      "    <__main__.Kangaroo object at 0x7f19e872a390>\n"
     ]
    }
   ],
   "source": [
    "class Kangaroo(object):\n",
    "    ''' This is Ellie code written by Ellie'''\n",
    "    def __init__(self, name, pouch_contents=[]):\n",
    "        self.name = name\n",
    "        self.pouch_contents = pouch_contents\n",
    "    def __str__(self):\n",
    "        printout = \"\"\n",
    "        for item in self.pouch_contents:\n",
    "            printout = printout + str(item) + \" \"\n",
    "        printout = \"In the pouch of %s there is: \" %(self.name) + printout\n",
    "        return printout\n",
    "    def put_in_pouch(self, newObj):\n",
    "        self.pouch_contents.append(newObj)\n",
    "    \n",
    "Kanga = Kangaroo(\"Kanga\",[\"peach\", \"wristwatch\", \"cannonball\"])\n",
    "roo = Kangaroo(\"roo\", [\"football\", \"Kanye\"])\n",
    "\n",
    "Kanga.put_in_pouch(roo)\n",
    "\n",
    "print Kanga\n",
    "print roo\n",
    "\n",
    "class Kangaroo(object):\n",
    "    \"\"\"This is Allen code written by Allen and has a bug.\n",
    "    I think it makes the two instances point to the same object during the __str__ method\n",
    "    by combining them into 'object' or something. Or by being too flippant about aliasing.\n",
    "    My code doesn't do this by requiring an additional input, name.\n",
    "    Turns out I was wrong - the bug was that if you let one obj initialize as an empty list,\n",
    "    it refers to the same thing as the other object.\n",
    "    The lesson: don't initialize to mutable values!!!\"\"\"\n",
    "    \n",
    "    def __init__(self, contents=[]):\n",
    "        \"\"\"initialize the pouch contents; the default value is\n",
    "        an empty list\"\"\"\n",
    "        self.pouch_contents = contents\n",
    "\n",
    "    def __str__(self):\n",
    "        \"\"\"return a string representaion of this Kangaroo and\n",
    "        the contents of the pouch, with one item per line\"\"\"\n",
    "        t = [ object.__str__(self) + ' with pouch contents:' ]\n",
    "        for obj in self.pouch_contents:\n",
    "            s = '    ' + object.__str__(obj)\n",
    "            t.append(s)\n",
    "        return '\\n'.join(t)\n",
    "\n",
    "    def put_in_pouch(self, item):\n",
    "        \"\"\"add a new item to the pouch contents\"\"\"\n",
    "        self.pouch_contents.append(item)\n",
    "\n",
    "kanga = Kangaroo()\n",
    "roo = Kangaroo()\n",
    "kanga.put_in_pouch('wallet')\n",
    "kanga.put_in_pouch('car keys')\n",
    "kanga.put_in_pouch(roo)\n",
    "\n",
    "print kanga\n",
    "print roo"
   ]
  },
  {
   "cell_type": "code",
   "execution_count": null,
   "metadata": {
    "collapsed": true
   },
   "outputs": [],
   "source": []
  },
  {
   "cell_type": "markdown",
   "metadata": {
    "is_question": true,
    "problem": "Time spent"
   },
   "source": [
    "## Quick poll\n",
    "About how long did you spend working on this Reading Journal?"
   ]
  },
  {
   "cell_type": "markdown",
   "metadata": {
    "poll_response": true,
    "solution": "Time spent"
   },
   "source": [
    "3hrs "
   ]
  },
  {
   "cell_type": "markdown",
   "metadata": {
    "is_question": true,
    "problem": "Feedback"
   },
   "source": [
    "## Reading Journal feedback\n",
    "\n",
    "Have any comments on this Reading Journal? Feel free to leave them below and we'll read them when you submit your journal entry. This could include suggestions to improve the exercises, topics you'd like to see covered in class next time, or other feedback.\n",
    "\n",
    "If you have Python questions or run into problems while completing the reading, you should post them to Piazza instead so you can get a quick response before your journal is submitted."
   ]
  },
  {
   "cell_type": "markdown",
   "metadata": {
    "feedback_response": true,
    "solution": "Feedback"
   },
   "source": [
    " Hard stuff/good stuff!"
   ]
  }
 ],
 "metadata": {
  "celltoolbar": "Edit Metadata",
  "kernelspec": {
   "display_name": "Python 2",
   "language": "python",
   "name": "python2"
  },
  "language_info": {
   "codemirror_mode": {
    "name": "ipython",
    "version": 2
   },
   "file_extension": ".py",
   "mimetype": "text/x-python",
   "name": "python",
   "nbconvert_exporter": "python",
   "pygments_lexer": "ipython2",
   "version": "2.7.6"
  }
 },
 "nbformat": 4,
 "nbformat_minor": 0
}
