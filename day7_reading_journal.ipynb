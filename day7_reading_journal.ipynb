{
 "cells": [
  {
   "cell_type": "markdown",
   "metadata": {},
   "source": [
    "# Day 7 Reading Journal\n",
    "\n",
    "This journal includes several required exercises, but it is meant to encourage active reading more generally.  You should use the journal to take detailed notes, catalog questions, and explore the content from Think Python deeply.\n",
    "\n",
    "Reading: Think Python Chapter 11, 12\n",
    "\n",
    "**Due: Thursday, February 18 at 12 noon**\n",
    "\n"
   ]
  },
  {
   "cell_type": "markdown",
   "metadata": {},
   "source": [
    "## [Chapter 11](http://www.greenteapress.com/thinkpython/html/thinkpython012.html)\n"
   ]
  },
  {
   "cell_type": "markdown",
   "metadata": {},
   "source": [
    "**Quick check:** In about one sentence using your own words, what is a dictionary?"
   ]
  },
  {
   "cell_type": "markdown",
   "metadata": {},
   "source": [
    "A dictionary is a set of values paired with keys that you can use to look up the values."
   ]
  },
  {
   "cell_type": "markdown",
   "metadata": {},
   "source": [
    "name = dict() creates a dictionary. dict is the function that creates it.\n",
    "name['key'] = 'value'\n",
    "print name --> {'key': 'value'}\n",
    "You can also input shit that way.\n",
    "\n",
    "Dictionaries are not ordered!!\n",
    "\n",
    "len gives you number of ITEMS (key-value pairs)\n",
    "string in dictname works for keys but not values\n",
    "\n",
    "valList = dictname.values() makes a list of the values.\n",
    "dictname.get(key, 0) returns key's value if key is in dictname, and 0 (or whatever you put after dat comma) if key is not in dictname\n",
    "\n",
    "Multiple keys can map to the same value, so if you want to do a REVERSE LOOKUP (finding key based on value) you have to write the search function yourself.\n",
    "A list can be a value but not a key. Useful if you're inverting a dictionary and have multiple keys mapping to one value in the original. Keys must be HASHABLE, an indexing thing that helps w/search, and can't be MUTABLE.\n",
    "\n",
    "If doing a recursive function, can add known index/value pairs to a dictionary so you can check if they're in there first instead of recalculating them a million times.\n",
    "\n",
    "If you wanna modify a global variable inside a function, declare it first:\n",
    "butt = 0\n",
    "def changing_butt()\n",
    "    global butt\n",
    "    butt += 1"
   ]
  },
  {
   "cell_type": "markdown",
   "metadata": {
    "is_question": true,
    "problem": "Exercise 11.2"
   },
   "source": [
    "### Exercise 2  \n",
    "\n",
    "Dictionaries have a [method called `get`](https://docs.python.org/2/library/stdtypes.html#mapping-types-dict) that takes a key and a default value. If the key appears in the dictionary, `get` returns the corresponding value; otherwise it returns the default value. For example:\n",
    "\n",
    "```\n",
    ">>> h = histogram('a')\n",
    ">>> print h\n",
    "{'a': 1}\n",
    ">>> h.get('a', 0)\n",
    "1\n",
    ">>> h.get('b', 0)\n",
    "0\n",
    "```\n",
    "\n",
    "Use `get` to write `histogram` more concisely. You should be able to eliminate the `if` statement. Add unit tests for your histogram implementation."
   ]
  },
  {
   "cell_type": "code",
   "execution_count": 3,
   "metadata": {
    "collapsed": false,
    "solution": "Exercise 11.2"
   },
   "outputs": [
    {
     "name": "stdout",
     "output_type": "stream",
     "text": [
      "{'a': 1, 'p': 2, 'e': 1, 'l': 1}\n"
     ]
    }
   ],
   "source": [
    "def histogram(s):\n",
    "    d = dict()\n",
    "    for c in s:\n",
    "        d[c] = 1 + d.get(c,0)\n",
    "    return d\n",
    "\n",
    "print histogram('apple')"
   ]
  },
  {
   "cell_type": "markdown",
   "metadata": {
    "is_question": true,
    "problem": "Exercise 11.4"
   },
   "source": [
    "### Exercise 4  \n",
    "\n",
    "Modify `reverse_lookup` so that it builds and returns a list of all keys that map to `v`, or an empty list if there are none. Add unit tests for your implementation."
   ]
  },
  {
   "cell_type": "code",
   "execution_count": 10,
   "metadata": {
    "collapsed": false,
    "solution": "Exercise 11.4"
   },
   "outputs": [
    {
     "name": "stdout",
     "output_type": "stream",
     "text": [
      "['a', 'c']\n",
      "[]\n"
     ]
    }
   ],
   "source": [
    "def reverse_lookup(d, v):\n",
    "    #Build and return a single list of all keys in d that map to value v.\n",
    "    keyList = []\n",
    "    for k in d:\n",
    "        if d[k] == v:\n",
    "            keyList.append(k)\n",
    "    return keyList\n",
    "    raise ValueError\n",
    "\n",
    "print reverse_lookup({'a': 1, 'b': 2, 'c': 1}, 1) #should return ['a', 'c']\n",
    "print reverse_lookup({'a': 1, 'b': 2, 'c': 1}, 3) #should return empty list"
   ]
  },
  {
   "cell_type": "markdown",
   "metadata": {},
   "source": [
    "If you'd like to learn more about errors and exceptions, you can check out the [Python tutorial](https://docs.python.org/2/tutorial/errors.html) or read ahead to [Appendix A](http://www.greenteapress.com/thinkpython/html/thinkpython021.html) of Think Python. If you choose to use doctest for your unit testing, it can also [deal with exceptions](https://docs.python.org/2/library/doctest.html#what-about-exceptions)."
   ]
  },
  {
   "cell_type": "markdown",
   "metadata": {},
   "source": [
    "**Quick check** What type of objects can be used as keys to a dictionary, i.e. what property must they have?"
   ]
  },
  {
   "cell_type": "markdown",
   "metadata": {},
   "source": [
    "Only hashable objects - they must be immutable so the dictionary can store the key and be done with it. "
   ]
  },
  {
   "cell_type": "markdown",
   "metadata": {
    "is_question": true,
    "problem": "Exercise 11.6"
   },
   "source": [
    "### Exercise 6 (modified)\n",
    "\n",
    "Create a memoized version of your Levenshtein distance function from Day 7. What kind of performance change do you see?\n",
    "\n",
    "Optional: If you'd like to get some quantitative results, you could check out the [timeit](https://docs.python.org/2/library/timeit.html) module\n",
    "\n",
    "Note: You can also study Fibonacci here if you prefer."
   ]
  },
  {
   "cell_type": "code",
   "execution_count": 44,
   "metadata": {
    "collapsed": false,
    "solution": "Exercise 11.6"
   },
   "outputs": [
    {
     "name": "stdout",
     "output_type": "stream",
     "text": [
      "6\n"
     ]
    }
   ],
   "source": [
    "known = dict()\n",
    "\n",
    "def levenshtein_distance(word1, len1, word2, len2):\n",
    "    \n",
    "    cost = 0\n",
    "    \n",
    "    if len1 ==0:\n",
    "        return len2\n",
    "    if len2 ==0:\n",
    "        return len1\n",
    "    \n",
    "    for x, y in known:\n",
    "        if (x ==len1 and y == len2):\n",
    "            return known[len1,len2]\n",
    "    \n",
    "    if word1[len1-1] == word2[len2-1]:\n",
    "        cost = 0\n",
    "    else:\n",
    "        cost = 1\n",
    "    \n",
    "    remove = levenshtein_distance(word1, len1-1, word2, len2)\n",
    "    known[len1-1, len2] = remove\n",
    "    add = levenshtein_distance(word1,len1,word2,len2-1)\n",
    "    known[len1, len2-1] = add\n",
    "    change = levenshtein_distance(word1, len1-1, word2, len2-1)\n",
    "    known[len1-1, len2-1] = change\n",
    "    \n",
    "    return min(remove + 1, add + 1, change + cost)\n",
    "\n",
    "\n",
    "print levenshtein_distance('kitten',6,'driving',7)"
   ]
  },
  {
   "cell_type": "markdown",
   "metadata": {},
   "source": [
    "## [Chapter 12](http://www.greenteapress.com/thinkpython/html/thinkpython013.html)\n",
    "\n",
    "**Quick check:** In about one sentence using your own words, what is a tuple?"
   ]
  },
  {
   "cell_type": "markdown",
   "metadata": {},
   "source": [
    "An ordered, unmutable collection of items (any type). "
   ]
  },
  {
   "cell_type": "markdown",
   "metadata": {},
   "source": [
    "You can do tuple assignments. You can assign tuple elements to list elements\n",
    "a, b = ['a', 'b']\n",
    "\n",
    "tuple(*args) gathers a bunch o shit into one tuple\n",
    "function_needs_multiple_args(*tuple) scatters that shit back out\n",
    "\n",
    "You can use tupleList = d.items() to make a list of 2-tuples (key-value pairs)\n",
    "dict(tupleList) makes a list of 2-tuples into a dictionary\n",
    "\n",
    "YOU CAN USE A TUPLE AS A DICTIONARY KEY!"
   ]
  },
  {
   "cell_type": "markdown",
   "metadata": {
    "is_question": true,
    "problem": "Exercise 12.1"
   },
   "source": [
    "### Exercise 1  \n",
    "\n",
    "Many of the built-in functions use variable-length argument tuples. For example, `max` and `min` can take any number of arguments:\n",
    "\n",
    "```\n",
    ">>> max(1,2,3)\n",
    "3\n",
    "```\n",
    "\n",
    "But `sum` does not.\n",
    "\n",
    "```\n",
    ">>> sum(1,2,3)\n",
    "TypeError: sum expected at most 2 arguments, got 3\n",
    "```\n",
    "\n",
    "Write a function called ```sumall``` that takes any number of arguments and returns their sum. \n",
    "\n",
    "Write unit tests for your function. Do I actually need to keep saying this? Let's assume it's always a good idea :)"
   ]
  },
  {
   "cell_type": "code",
   "execution_count": 11,
   "metadata": {
    "collapsed": false,
    "scrolled": true,
    "solution": "Exercise 12.1"
   },
   "outputs": [
    {
     "name": "stdout",
     "output_type": "stream",
     "text": [
      "12\n"
     ]
    }
   ],
   "source": [
    "def sumall(*args):\n",
    "    if len(args) <=2:\n",
    "        return sum(args)\n",
    "    combine_first = sum(args[0:2])\n",
    "    args = (combine_first,) + args[2:]\n",
    "    return sumall(*args)\n",
    "    \n",
    "print sumall(2,6,3,1)"
   ]
  },
  {
   "cell_type": "markdown",
   "metadata": {},
   "source": [
    "If you're interested in more flexible ways to pass arguments to functions, check out the [Python tutorial](https://docs.python.org/2/tutorial/controlflow.html#more-on-defining-functions). For instance, you can also use keyword arguments, which are collected into a dictionary just like `*` gathers variable numbers of positional arguments into a tuple.\n",
    "\n",
    "This pattern is very common for defining functions with complex optional behaviors in Python, and you will often see definitions like:\n",
    "\n",
    "```\n",
    "def my_func(required_argument1, *arguments, **keywords):\n",
    "    ...\n",
    "```"
   ]
  },
  {
   "cell_type": "markdown",
   "metadata": {
    "is_question": true,
    "problem": "Exercise 12 sort"
   },
   "source": [
    "### Exercise\n",
    "\n",
    "Write a function `sort_by_last_letter` that takes a list of words and returns a new list with the words sorted alphabetically by the _last letter_ in the word. Hint: use the **Decorate, Sort, Undecorate** pattern. Write unit tests for your function."
   ]
  },
  {
   "cell_type": "code",
   "execution_count": 25,
   "metadata": {
    "collapsed": false,
    "solution": "Exercise 12 sort"
   },
   "outputs": [
    {
     "name": "stdout",
     "output_type": "stream",
     "text": [
      "['beard', 'bug', 'blanket', 'wow', 'forty']\n"
     ]
    }
   ],
   "source": [
    "def sort_by_last_letter(words):\n",
    "    #first create alphabet dictionary\n",
    "    alphabet = 'abcdefghijklmnopqrstuvwxyz'\n",
    "    alph_dict = dict()\n",
    "    for i in range(len(alphabet)):\n",
    "        letter = alphabet[i]\n",
    "        alph_dict[letter] = i\n",
    "    \n",
    "    #decorate\n",
    "    tups = []\n",
    "    for word in words:\n",
    "        last_letter_index = alph_dict.get(word[-1])\n",
    "        tup.append((last_letter_index, word))\n",
    "    \n",
    "    #sort\n",
    "    tups.sort()\n",
    "    \n",
    "    #undecorate\n",
    "    res = []\n",
    "    for index, word in tups:\n",
    "        res.append(word)\n",
    "    \n",
    "    return res\n",
    "    \n",
    "        \n",
    "print sort_by_last_letter(['bug', 'forty', 'wow', 'blanket', 'beard'])"
   ]
  },
  {
   "cell_type": "markdown",
   "metadata": {},
   "source": [
    "**Quick check** Give an example of when you might use each sequence type:\n",
    "\n",
    "- tuple\n",
    "\n",
    "- list\n",
    "\n",
    "- string"
   ]
  },
  {
   "cell_type": "markdown",
   "metadata": {},
   "source": [
    "Tuple: as a way to input multiple arguments to a function to avoid aliasing; as a 2x2 (or more) key in a dictionary, like in the levenshtein distance function\n",
    "List: anytime a sequence of things needs to be sorted\n",
    "String: any application that's character-heavy, as they're less cumbersome than tuples. DNA project was a good example."
   ]
  },
  {
   "cell_type": "markdown",
   "metadata": {
    "is_question": true,
    "problem": "Exercise 12.3"
   },
   "source": [
    "### Exercise 3  \n",
    "\n",
    "Write a function called `most_frequent` that takes a string and prints the letters in decreasing order of frequency. Find text samples from several different languages and see how letter frequency varies between languages. Compare your results with the tables at http://en.wikipedia.org/wiki/Letter_frequencies. \n",
    "\n",
    "Allen's solution (try it on your own first): http://thinkpython.com/code/most_frequent.py. "
   ]
  },
  {
   "cell_type": "code",
   "execution_count": 36,
   "metadata": {
    "collapsed": false,
    "solution": "Exercise 12.3"
   },
   "outputs": [
    {
     "name": "stdout",
     "output_type": "stream",
     "text": [
      " \n",
      "e\n",
      "r\n",
      "n\n",
      "d\n",
      "u\n",
      "None\n",
      "i\n",
      " \n",
      "a\n",
      "e\n",
      "t\n",
      "o\n",
      "None\n",
      " \n",
      "e\n",
      "t\n",
      "o\n",
      "a\n",
      "l\n",
      "None\n"
     ]
    }
   ],
   "source": [
    "def most_frequent(myString):\n",
    "    myString.replace(\" \",\"\")\n",
    "    freq_dic = dict()\n",
    "    #count occurrences with dictionary\n",
    "    for char in myString:\n",
    "        freq_dic[char] = freq_dic.get(char,0) + 1\n",
    "    \n",
    "    freqFirstList = []\n",
    "    \n",
    "    #decorate as list of tuples\n",
    "    for letter, freq in freq_dic.items():\n",
    "        freqFirstList.append((freq,letter))\n",
    "    \n",
    "    #sort\n",
    "    freqFirstList.sort(reverse=True)\n",
    "    \n",
    "    #undecorate/print\n",
    "    for freq, letter in freqFirstList[0:6]:\n",
    "        print letter\n",
    "    \n",
    "print most_frequent('Das Bauhaus, die bedeutendste deutsche Kunst- und Architekturschule des 20. Jahrhunderts, wurde 1919 in Weimar gegründet. Walter Gropius, einer der Begründer der heute legendären Schule, entwarf in den 60er Jahren ein Museumsgebäude für ein Bauhaus-Archiv, das in Darmstadt, dem damaligen Sitz des 1960 gegründeten Archivs, errichtet werden sollte. Das Archiv zog aber 1971 von Darmstadt nach West-Berlin um. Berlin war doch die letzte Wirkungsstätte des historischen Bauhauses, und dort wurde 1979 das neue Gebäude feierlich eröffnet. Der Berliner Museum-Bau, der nur den allgemeinen Grundrissplan und die Silhouette mit dem Gropius-Entwurf von 1964 gemein hatte, wurde in der Presse negativ beurteilt, die Sammlung aber positiv besprochen. In den Jahren danach ist die einzigartige Silhouette des Baus zum Wahrzeichen Berlins geworden. 1997 wurde das Museumsgebäude unter Denkmalschutz gestellt.')\n",
    "print most_frequent('Lasten päivähoitoa tarjotaan seitsemässä päiväkodissa, ryhmäperhepäivähoidossa sekä perhepäivähoidossa. Lapsiperheet ovat ahkerimpia Akaaseeen muuttajia, joten hoitopaikkojen tarve on kasvanut voimakkaasti. Monimuotoisilla palveluilla pyritään huolehtimaan myös siitä, että hoitoa on tarjolla erilaisiin tarpeisiin kuten vuorotöissä käyvien vanhempien lapsille. ')\n",
    "print most_frequent(\"You might try then, as I did, to find a sky so full of stars it will blind you again. Only no sky can blind you now. Even with all that iridescent magic up there, your eye will no longer linger on the light, it will no longer trace constellations. You'll care only about the darkness and you'll watch it for hours, for days, maybe even for years, trying in vain to believe you're some kind of indispensable, universe-appointed sentinel, as if just by looking you could actually keep it all at bay. It will get so bad you'll be afraid to look away, you'll be afraid to sleep. Then no matter where you are, in a crowded restaurant or on some desolate street or even in the comforts of your own home, you'll watch yourself dismantle every assurance you ever lived by. You'll stand aside as a great complexity intrudes, tearing apart, piece by piece, all of your carefully conceived denials, whether deliberate or unconscious. And then for better or worse you'll turn, unable to resist, though try to resist you still will, fighting with everything you've got not to face the thing you most dread, what is now, what will be, what has always come before, the creature you truly are, the creature we all are, buried in the nameless black of a name. And then the nightmares will begin\")"
   ]
  },
  {
   "cell_type": "markdown",
   "metadata": {
    "is_question": true,
    "problem": "Exercise 12.6"
   },
   "source": [
    "### Challenge: Exercise 6   (optional)\n",
    "\n",
    "From a [Car Talk Puzzler](http://www.cartalk.com/content/puzzlers):\n",
    "\n",
    "What is the longest English word, that remains a valid English word, as you remove its letters one at a time?\n",
    "\n",
    "Now, letters can be removed from either end, or the middle, but you can’t rearrange any of the letters. Every time you drop a letter, you wind up with another English word. If you do that, you’re eventually going to wind up with one letter and that too is going to be an English word—one that’s found in the dictionary. I want to know what’s the longest word and how many letters does it have?\n",
    "\n",
    "I’m going to give you a little modest example: Sprite. Ok? You start off with sprite, you take a letter off, one from the interior of the word, take the r away, and we’re left with the word spite, then we take the e off the end, we’re left with spit, we take the s off, we’re left with pit, it, and I. \n",
    "\n",
    "Write a program to find all words that can be reduced in this way, and then find the longest one.\n",
    "\n",
    "This exercise is a little more challenging than most, so here are some suggestions:\n",
    "\n",
    "- You might want to write a function that takes a word and computes a list of all the words that can be formed by removing one letter. These are the “children” of the word.\n",
    "- Recursively, a word is reducible if any of its children are reducible. As a base case, you can consider the empty string reducible.\n",
    "- The word list from [Chapter 9.1](http://www.greenteapress.com/thinkpython/html/thinkpython010.html) Exercise 1 doesn’t contain single letter words. So you might want to add “I”, “a”, and the empty string.\n",
    "- To improve the performance of your program, you might want to memoize the words that are known to be reducible.\n",
    "\n",
    "Allen's solution: http://thinkpython.com/code/reducible.py."
   ]
  },
  {
   "cell_type": "code",
   "execution_count": null,
   "metadata": {
    "collapsed": true,
    "solution": "Exercise 12.6"
   },
   "outputs": [],
   "source": []
  },
  {
   "cell_type": "markdown",
   "metadata": {
    "is_question": true,
    "problem": "Feedback"
   },
   "source": [
    "## Reading Journal feedback\n",
    "\n",
    "Have any comments on this Reading Journal? Feel free to leave them below and we'll read them when you submit your journal entry. This could include suggestions to improve the exercises, topics you'd like to see covered in class next time, or other feedback.\n",
    "\n",
    "If you have Python questions or run into problems while completing the reading, you should post them to Piazza instead so you can get a quick response before your journal is submitted."
   ]
  },
  {
   "cell_type": "markdown",
   "metadata": {
    "feedback_response": true,
    "solution": "Feedback"
   },
   "source": [
    " All good. Levenshtein was really hard. :("
   ]
  }
 ],
 "metadata": {
  "celltoolbar": "Edit Metadata",
  "kernelspec": {
   "display_name": "Python 2",
   "language": "python",
   "name": "python2"
  },
  "language_info": {
   "codemirror_mode": {
    "name": "ipython",
    "version": 2
   },
   "file_extension": ".py",
   "mimetype": "text/x-python",
   "name": "python",
   "nbconvert_exporter": "python",
   "pygments_lexer": "ipython2",
   "version": "2.7.6"
  }
 },
 "nbformat": 4,
 "nbformat_minor": 0
}
